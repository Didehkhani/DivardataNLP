{
  "cells": [
    {
      "cell_type": "markdown",
      "metadata": {
        "id": "Wf6sevwXKOY3"
      },
      "source": [
        " Divar is an  Online Requirements Platform in Iran. Amirkabir university in Iran Held a contest with  title \"Intelligent processing of Divar data'. In this contest, participants must predict what percentage of an ad will be able to be published on the Divar website. So it is a NLP question with Persian text. Hazm library has been provided for this purpose."
      ]
    },
    {
      "cell_type": "markdown",
      "metadata": {
        "id": "ywVFsuObNCfT"
      },
      "source": [
        "First, I install hazm library and some other requirements.\n",
        "Hazm Repo in github. Hazm Repo in github. Check this link [https://github.com/sobhe/hazm]Hazm-GitHub for more information."
      ]
    },
    {
      "cell_type": "code",
      "execution_count": null,
      "metadata": {
        "colab": {
          "base_uri": "https://localhost:8080/"
        },
        "id": "ONAyZ2UH0e9w",
        "outputId": "9c6d2c86-d0f1-4d00-9c29-21958bf3cfa5"
      },
      "outputs": [
        {
          "output_type": "stream",
          "name": "stdout",
          "text": [
            "Looking in indexes: https://pypi.org/simple, https://us-python.pkg.dev/colab-wheels/public/simple/\n",
            "Collecting hazm\n",
            "  Downloading hazm-0.7.0-py3-none-any.whl (316 kB)\n",
            "\u001b[K     |████████████████████████████████| 316 kB 5.0 MB/s \n",
            "\u001b[?25hCollecting libwapiti>=0.2.1\n",
            "  Downloading libwapiti-0.2.1.tar.gz (233 kB)\n",
            "\u001b[K     |████████████████████████████████| 233 kB 50.2 MB/s \n",
            "\u001b[?25hCollecting nltk==3.3\n",
            "  Downloading nltk-3.3.0.zip (1.4 MB)\n",
            "\u001b[K     |████████████████████████████████| 1.4 MB 44.3 MB/s \n",
            "\u001b[?25hRequirement already satisfied: six in /usr/local/lib/python3.7/dist-packages (from nltk==3.3->hazm) (1.15.0)\n",
            "Building wheels for collected packages: nltk, libwapiti\n",
            "  Building wheel for nltk (setup.py) ... \u001b[?25l\u001b[?25hdone\n",
            "  Created wheel for nltk: filename=nltk-3.3-py3-none-any.whl size=1394483 sha256=91f86784c8e6f2293869cb57f177b0e0c73faebbde0c127cbc1370e099c98436\n",
            "  Stored in directory: /root/.cache/pip/wheels/9b/fd/0c/d92302c876e5de87ebd7fc0979d82edb93e2d8d768bf71fac4\n",
            "  Building wheel for libwapiti (setup.py) ... \u001b[?25l\u001b[?25hdone\n",
            "  Created wheel for libwapiti: filename=libwapiti-0.2.1-cp37-cp37m-linux_x86_64.whl size=154832 sha256=700a5b0c0d1f17ce607be22e83df4423eec73b3853aedaa80a039764670e582e\n",
            "  Stored in directory: /root/.cache/pip/wheels/ab/b2/5b/0fe4b8f5c0e65341e8ea7bb3f4a6ebabfe8b1ac31322392dbf\n",
            "Successfully built nltk libwapiti\n",
            "Installing collected packages: nltk, libwapiti, hazm\n",
            "  Attempting uninstall: nltk\n",
            "    Found existing installation: nltk 3.7\n",
            "    Uninstalling nltk-3.7:\n",
            "      Successfully uninstalled nltk-3.7\n",
            "Successfully installed hazm-0.7.0 libwapiti-0.2.1 nltk-3.3\n"
          ]
        }
      ],
      "source": [
        "pip install hazm\n"
      ]
    },
    {
      "cell_type": "code",
      "execution_count": null,
      "metadata": {
        "colab": {
          "base_uri": "https://localhost:8080/"
        },
        "id": "YgYaZlMi0n8L",
        "outputId": "c96d8924-b26e-4874-95c5-1a9b63506405"
      },
      "outputs": [
        {
          "output_type": "stream",
          "name": "stdout",
          "text": [
            "Looking in indexes: https://pypi.org/simple, https://us-python.pkg.dev/colab-wheels/public/simple/\n",
            "Collecting arabic_reshaper\n",
            "  Downloading arabic_reshaper-2.1.3-py3-none-any.whl (20 kB)\n",
            "Requirement already satisfied: future in /usr/local/lib/python3.7/dist-packages (from arabic_reshaper) (0.16.0)\n",
            "Requirement already satisfied: setuptools in /usr/local/lib/python3.7/dist-packages (from arabic_reshaper) (57.4.0)\n",
            "Installing collected packages: arabic-reshaper\n",
            "Successfully installed arabic-reshaper-2.1.3\n"
          ]
        }
      ],
      "source": [
        "pip install arabic_reshaper"
      ]
    },
    {
      "cell_type": "code",
      "execution_count": null,
      "metadata": {
        "colab": {
          "base_uri": "https://localhost:8080/"
        },
        "id": "sl6aJskI0sVU",
        "outputId": "e765098e-403a-47f3-babb-fc324ad02735"
      },
      "outputs": [
        {
          "output_type": "stream",
          "name": "stdout",
          "text": [
            "Looking in indexes: https://pypi.org/simple, https://us-python.pkg.dev/colab-wheels/public/simple/\n",
            "Collecting python-bidi\n",
            "  Downloading python_bidi-0.4.2-py2.py3-none-any.whl (30 kB)\n",
            "Requirement already satisfied: six in /usr/local/lib/python3.7/dist-packages (from python-bidi) (1.15.0)\n",
            "Installing collected packages: python-bidi\n",
            "Successfully installed python-bidi-0.4.2\n"
          ]
        }
      ],
      "source": [
        "pip install python-bidi"
      ]
    },
    {
      "cell_type": "markdown",
      "metadata": {
        "id": "f7zss2DqNSlA"
      },
      "source": [
        "I import some usable libraries such as pandas, numpy,etc."
      ]
    },
    {
      "cell_type": "code",
      "execution_count": null,
      "metadata": {
        "id": "XjB8hSKm0sfX"
      },
      "outputs": [],
      "source": [
        "# data analysis pkg\n",
        "import pandas as pd\n",
        "import matplotlib.pyplot as plt\n",
        "import seaborn as sns\n",
        "sns.set()\n",
        "import numpy as np\n",
        "\n",
        "# data wrangling, cleaning and wordcloud visualization pkg\n",
        "from hazm import word_tokenize, stopwords_list, InformalLemmatizer\n",
        "import re\n",
        "import arabic_reshaper\n",
        "from bidi.algorithm import get_display\n",
        "from wordcloud import WordCloud\n",
        "\n",
        "from tqdm import tqdm as progressbar\n",
        "\n",
        "# Avoiding warnings\n",
        "import warnings\n",
        "import os\n",
        "########### Prevent Warnings ###########\n",
        "warnings.filterwarnings(action='ignore')\n",
        "########### Prevent Warnings ###########\n",
        "\n",
        "%matplotlib inline"
      ]
    },
    {
      "cell_type": "markdown",
      "metadata": {
        "id": "3gYwmPVsNsm4"
      },
      "source": [
        "I wrote my codes in GoogleColab. I connect to the colab drive.\n",
        "\n",
        "---\n",
        "\n"
      ]
    },
    {
      "cell_type": "code",
      "execution_count": null,
      "metadata": {
        "colab": {
          "base_uri": "https://localhost:8080/"
        },
        "id": "ZUXmD7IG0sjO",
        "outputId": "c80ec435-a23e-4d04-f092-8cab5cd3935c"
      },
      "outputs": [
        {
          "output_type": "stream",
          "name": "stdout",
          "text": [
            "Mounted at /content/drive/\n"
          ]
        }
      ],
      "source": [
        "from google.colab import drive\n",
        "drive.mount('/content/drive/')"
      ]
    },
    {
      "cell_type": "markdown",
      "metadata": {
        "id": "4LaML0gWOImV"
      },
      "source": [
        "The data has been given in parquet form so I import pyarrow.parquet to read the data but I have uploaded it in the google drive.\n",
        "\n",
        "\n",
        "\"Parquet is a columnar storage format that supports nested data.\n",
        "\n",
        "Parquet metadata is encoded using Apache Thrift.\n",
        "\n",
        "The Parquet-format project contains all Thrift definitions that are necessary to create readers and writers for Parquet files.\"\n",
        "https://github.com/apache/parquet-format"
      ]
    },
    {
      "cell_type": "code",
      "execution_count": null,
      "metadata": {
        "id": "w3esUAqa0soG"
      },
      "outputs": [],
      "source": [
        "import pyarrow.parquet as pq\n",
        "df = pq.read_table(source=\"/content/drive/MyDrive/DivarNLP/DMC-Train.parquet\").to_pandas()"
      ]
    },
    {
      "cell_type": "code",
      "execution_count": null,
      "metadata": {
        "colab": {
          "base_uri": "https://localhost:8080/",
          "height": 468
        },
        "id": "Spf328StSKpR",
        "outputId": "aae9b084-2a9d-4190-c39e-de2fe1129976"
      },
      "outputs": [
        {
          "output_type": "execute_result",
          "data": {
            "text/plain": [
              "                                     post_id  \\\n",
              "0       cb000599-2ee2-42c1-9f0e-32cfeb940398   \n",
              "1       12063741-6634-444b-befa-0be4c95c2b42   \n",
              "2       81c93119-5c06-412f-80aa-363ddb0ebc33   \n",
              "3       b5a5bfa7-03be-408b-b4d9-bca26c0ca59b   \n",
              "4       3414e920-dfaf-44a8-9853-0b03d66e9e2a   \n",
              "...                                      ...   \n",
              "540357  57d8583a-762d-49df-a1ea-fde6ae63e35b   \n",
              "540358  7bace186-9fc3-450b-9c23-3a109fa1f455   \n",
              "540359  d8014824-d3e7-4a0a-9863-df11021f23d4   \n",
              "540360  ee2bdfaf-773e-430e-9e04-cc250e7a27c6   \n",
              "540361  8b88abae-ad36-4824-b19d-161ffc23ce77   \n",
              "\n",
              "                                                post_data review_label  \\\n",
              "0       {\"body_status\": \"witout-color\", \"brand\": \"\\u06...       accept   \n",
              "1       {\"body_status\": \"witout-color\", \"brand\": \"\\u06...       reject   \n",
              "2       {\"body_status\": \"witout-color\", \"brand\": \"\\u06...       accept   \n",
              "3       {\"brand\": \"\\u0633\\u0627\\u06cc\\u0631\", \"brand_m...       accept   \n",
              "4       {\"body_status\": \"intact\", \"brand\": \"\\u067e\\u06...       reject   \n",
              "...                                                   ...          ...   \n",
              "540357  {\"brand\": \"\\u0633\\u0627\\u06cc\\u0631\", \"brand_m...       accept   \n",
              "540358  {\"body_status\": \"some-scratches\", \"brand\": \"\\u...       reject   \n",
              "540359  {\"body_status\": \"some-scratches\", \"brand\": \"\\u...       accept   \n",
              "540360  {\"body_status\": \"witout-color\", \"brand\": \"\\u06...       accept   \n",
              "540361  {\"body_status\": \"two-spots-paint\", \"brand\": \"\\...       accept   \n",
              "\n",
              "        reject_reason_id  \n",
              "0                      0  \n",
              "1                     13  \n",
              "2                      0  \n",
              "3                      0  \n",
              "4                     12  \n",
              "...                  ...  \n",
              "540357                 0  \n",
              "540358               145  \n",
              "540359                 0  \n",
              "540360                 0  \n",
              "540361                 0  \n",
              "\n",
              "[540362 rows x 4 columns]"
            ],
            "text/html": [
              "\n",
              "  <div id=\"df-1ac83406-75e6-43de-8997-30589d8ef823\">\n",
              "    <div class=\"colab-df-container\">\n",
              "      <div>\n",
              "<style scoped>\n",
              "    .dataframe tbody tr th:only-of-type {\n",
              "        vertical-align: middle;\n",
              "    }\n",
              "\n",
              "    .dataframe tbody tr th {\n",
              "        vertical-align: top;\n",
              "    }\n",
              "\n",
              "    .dataframe thead th {\n",
              "        text-align: right;\n",
              "    }\n",
              "</style>\n",
              "<table border=\"1\" class=\"dataframe\">\n",
              "  <thead>\n",
              "    <tr style=\"text-align: right;\">\n",
              "      <th></th>\n",
              "      <th>post_id</th>\n",
              "      <th>post_data</th>\n",
              "      <th>review_label</th>\n",
              "      <th>reject_reason_id</th>\n",
              "    </tr>\n",
              "  </thead>\n",
              "  <tbody>\n",
              "    <tr>\n",
              "      <th>0</th>\n",
              "      <td>cb000599-2ee2-42c1-9f0e-32cfeb940398</td>\n",
              "      <td>{\"body_status\": \"witout-color\", \"brand\": \"\\u06...</td>\n",
              "      <td>accept</td>\n",
              "      <td>0</td>\n",
              "    </tr>\n",
              "    <tr>\n",
              "      <th>1</th>\n",
              "      <td>12063741-6634-444b-befa-0be4c95c2b42</td>\n",
              "      <td>{\"body_status\": \"witout-color\", \"brand\": \"\\u06...</td>\n",
              "      <td>reject</td>\n",
              "      <td>13</td>\n",
              "    </tr>\n",
              "    <tr>\n",
              "      <th>2</th>\n",
              "      <td>81c93119-5c06-412f-80aa-363ddb0ebc33</td>\n",
              "      <td>{\"body_status\": \"witout-color\", \"brand\": \"\\u06...</td>\n",
              "      <td>accept</td>\n",
              "      <td>0</td>\n",
              "    </tr>\n",
              "    <tr>\n",
              "      <th>3</th>\n",
              "      <td>b5a5bfa7-03be-408b-b4d9-bca26c0ca59b</td>\n",
              "      <td>{\"brand\": \"\\u0633\\u0627\\u06cc\\u0631\", \"brand_m...</td>\n",
              "      <td>accept</td>\n",
              "      <td>0</td>\n",
              "    </tr>\n",
              "    <tr>\n",
              "      <th>4</th>\n",
              "      <td>3414e920-dfaf-44a8-9853-0b03d66e9e2a</td>\n",
              "      <td>{\"body_status\": \"intact\", \"brand\": \"\\u067e\\u06...</td>\n",
              "      <td>reject</td>\n",
              "      <td>12</td>\n",
              "    </tr>\n",
              "    <tr>\n",
              "      <th>...</th>\n",
              "      <td>...</td>\n",
              "      <td>...</td>\n",
              "      <td>...</td>\n",
              "      <td>...</td>\n",
              "    </tr>\n",
              "    <tr>\n",
              "      <th>540357</th>\n",
              "      <td>57d8583a-762d-49df-a1ea-fde6ae63e35b</td>\n",
              "      <td>{\"brand\": \"\\u0633\\u0627\\u06cc\\u0631\", \"brand_m...</td>\n",
              "      <td>accept</td>\n",
              "      <td>0</td>\n",
              "    </tr>\n",
              "    <tr>\n",
              "      <th>540358</th>\n",
              "      <td>7bace186-9fc3-450b-9c23-3a109fa1f455</td>\n",
              "      <td>{\"body_status\": \"some-scratches\", \"brand\": \"\\u...</td>\n",
              "      <td>reject</td>\n",
              "      <td>145</td>\n",
              "    </tr>\n",
              "    <tr>\n",
              "      <th>540359</th>\n",
              "      <td>d8014824-d3e7-4a0a-9863-df11021f23d4</td>\n",
              "      <td>{\"body_status\": \"some-scratches\", \"brand\": \"\\u...</td>\n",
              "      <td>accept</td>\n",
              "      <td>0</td>\n",
              "    </tr>\n",
              "    <tr>\n",
              "      <th>540360</th>\n",
              "      <td>ee2bdfaf-773e-430e-9e04-cc250e7a27c6</td>\n",
              "      <td>{\"body_status\": \"witout-color\", \"brand\": \"\\u06...</td>\n",
              "      <td>accept</td>\n",
              "      <td>0</td>\n",
              "    </tr>\n",
              "    <tr>\n",
              "      <th>540361</th>\n",
              "      <td>8b88abae-ad36-4824-b19d-161ffc23ce77</td>\n",
              "      <td>{\"body_status\": \"two-spots-paint\", \"brand\": \"\\...</td>\n",
              "      <td>accept</td>\n",
              "      <td>0</td>\n",
              "    </tr>\n",
              "  </tbody>\n",
              "</table>\n",
              "<p>540362 rows × 4 columns</p>\n",
              "</div>\n",
              "      <button class=\"colab-df-convert\" onclick=\"convertToInteractive('df-1ac83406-75e6-43de-8997-30589d8ef823')\"\n",
              "              title=\"Convert this dataframe to an interactive table.\"\n",
              "              style=\"display:none;\">\n",
              "        \n",
              "  <svg xmlns=\"http://www.w3.org/2000/svg\" height=\"24px\"viewBox=\"0 0 24 24\"\n",
              "       width=\"24px\">\n",
              "    <path d=\"M0 0h24v24H0V0z\" fill=\"none\"/>\n",
              "    <path d=\"M18.56 5.44l.94 2.06.94-2.06 2.06-.94-2.06-.94-.94-2.06-.94 2.06-2.06.94zm-11 1L8.5 8.5l.94-2.06 2.06-.94-2.06-.94L8.5 2.5l-.94 2.06-2.06.94zm10 10l.94 2.06.94-2.06 2.06-.94-2.06-.94-.94-2.06-.94 2.06-2.06.94z\"/><path d=\"M17.41 7.96l-1.37-1.37c-.4-.4-.92-.59-1.43-.59-.52 0-1.04.2-1.43.59L10.3 9.45l-7.72 7.72c-.78.78-.78 2.05 0 2.83L4 21.41c.39.39.9.59 1.41.59.51 0 1.02-.2 1.41-.59l7.78-7.78 2.81-2.81c.8-.78.8-2.07 0-2.86zM5.41 20L4 18.59l7.72-7.72 1.47 1.35L5.41 20z\"/>\n",
              "  </svg>\n",
              "      </button>\n",
              "      \n",
              "  <style>\n",
              "    .colab-df-container {\n",
              "      display:flex;\n",
              "      flex-wrap:wrap;\n",
              "      gap: 12px;\n",
              "    }\n",
              "\n",
              "    .colab-df-convert {\n",
              "      background-color: #E8F0FE;\n",
              "      border: none;\n",
              "      border-radius: 50%;\n",
              "      cursor: pointer;\n",
              "      display: none;\n",
              "      fill: #1967D2;\n",
              "      height: 32px;\n",
              "      padding: 0 0 0 0;\n",
              "      width: 32px;\n",
              "    }\n",
              "\n",
              "    .colab-df-convert:hover {\n",
              "      background-color: #E2EBFA;\n",
              "      box-shadow: 0px 1px 2px rgba(60, 64, 67, 0.3), 0px 1px 3px 1px rgba(60, 64, 67, 0.15);\n",
              "      fill: #174EA6;\n",
              "    }\n",
              "\n",
              "    [theme=dark] .colab-df-convert {\n",
              "      background-color: #3B4455;\n",
              "      fill: #D2E3FC;\n",
              "    }\n",
              "\n",
              "    [theme=dark] .colab-df-convert:hover {\n",
              "      background-color: #434B5C;\n",
              "      box-shadow: 0px 1px 3px 1px rgba(0, 0, 0, 0.15);\n",
              "      filter: drop-shadow(0px 1px 2px rgba(0, 0, 0, 0.3));\n",
              "      fill: #FFFFFF;\n",
              "    }\n",
              "  </style>\n",
              "\n",
              "      <script>\n",
              "        const buttonEl =\n",
              "          document.querySelector('#df-1ac83406-75e6-43de-8997-30589d8ef823 button.colab-df-convert');\n",
              "        buttonEl.style.display =\n",
              "          google.colab.kernel.accessAllowed ? 'block' : 'none';\n",
              "\n",
              "        async function convertToInteractive(key) {\n",
              "          const element = document.querySelector('#df-1ac83406-75e6-43de-8997-30589d8ef823');\n",
              "          const dataTable =\n",
              "            await google.colab.kernel.invokeFunction('convertToInteractive',\n",
              "                                                     [key], {});\n",
              "          if (!dataTable) return;\n",
              "\n",
              "          const docLinkHtml = 'Like what you see? Visit the ' +\n",
              "            '<a target=\"_blank\" href=https://colab.research.google.com/notebooks/data_table.ipynb>data table notebook</a>'\n",
              "            + ' to learn more about interactive tables.';\n",
              "          element.innerHTML = '';\n",
              "          dataTable['output_type'] = 'display_data';\n",
              "          await google.colab.output.renderOutput(dataTable, element);\n",
              "          const docLink = document.createElement('div');\n",
              "          docLink.innerHTML = docLinkHtml;\n",
              "          element.appendChild(docLink);\n",
              "        }\n",
              "      </script>\n",
              "    </div>\n",
              "  </div>\n",
              "  "
            ]
          },
          "metadata": {},
          "execution_count": 7
        }
      ],
      "source": [
        "df"
      ]
    },
    {
      "cell_type": "markdown",
      "metadata": {
        "id": "XGHPXPd9SQbB"
      },
      "source": [
        "As you see we have four columns, \"post_id\",\"post_data\",\"review_label\",\"reject_reason_id\". The last column is for more information about the reason of acceptance or rejection of ads. "
      ]
    },
    {
      "cell_type": "markdown",
      "source": [
        "Relationship between Features and Survival\n",
        "In this section, we analyze relationship between different features with respect to reviw_label. We see how different feature values show different acceptance chance. We also plot different kinds of diagrams to visualize our data and findings."
      ],
      "metadata": {
        "id": "865k5O6sVYev"
      }
    },
    {
      "cell_type": "markdown",
      "metadata": {
        "id": "52yQWw-vS6Ow"
      },
      "source": [
        "In review_label I replace 'accept' with 1 and 'reject' with 0."
      ]
    },
    {
      "cell_type": "code",
      "execution_count": null,
      "metadata": {
        "id": "u0ZgikAn0su4"
      },
      "outputs": [],
      "source": [
        "Acceptance= df.review_label.replace('accept',1,inplace=True)\n",
        "Not_Acceptance= df.review_label.replace('reject',0,inplace=True)\n"
      ]
    },
    {
      "cell_type": "markdown",
      "metadata": {
        "id": "HF9Xi0t4TSy-"
      },
      "source": [
        "Now we compute how many 1 and 0 we have in review_label column."
      ]
    },
    {
      "cell_type": "code",
      "execution_count": null,
      "metadata": {
        "colab": {
          "base_uri": "https://localhost:8080/"
        },
        "id": "JEfyK8u68Eki",
        "outputId": "c02d8445-81d5-4569-9cf6-fb076d72c93d"
      },
      "outputs": [
        {
          "output_type": "execute_result",
          "data": {
            "text/plain": [
              "1    416370\n",
              "0    123992\n",
              "Name: review_label, dtype: int64"
            ]
          },
          "metadata": {},
          "execution_count": 9
        }
      ],
      "source": [
        "df['review_label'].value_counts()"
      ]
    },
    {
      "cell_type": "code",
      "source": [
        "# print (\"review_label: %i (%.1f%%)\"%(len(Acceptance), float(len(Acceptance))/len(df)*100.0))\n",
        "# print (\"Not_Acceptance: %i (%.1f%%)\"%(len(Not_Acceptance), float(len(Not_Acceptance))/len(df)*100.0))\n",
        "# print (\"Total: %i\"%len(df))"
      ],
      "metadata": {
        "id": "TxVpH2adVwhv"
      },
      "execution_count": null,
      "outputs": []
    },
    {
      "cell_type": "code",
      "execution_count": null,
      "metadata": {
        "colab": {
          "base_uri": "https://localhost:8080/",
          "height": 302
        },
        "id": "1oEJdfD-k_BK",
        "outputId": "2434c589-8b6f-4992-dede-26a51f9135d7"
      },
      "outputs": [
        {
          "output_type": "execute_result",
          "data": {
            "text/plain": [
              "<matplotlib.axes._subplots.AxesSubplot at 0x7fd5e8cd30d0>"
            ]
          },
          "metadata": {},
          "execution_count": 11
        },
        {
          "output_type": "display_data",
          "data": {
            "text/plain": [
              "<Figure size 432x288 with 1 Axes>"
            ],
            "image/png": "[encoded data removed]"
          },
          "metadata": {
            "needs_background": "light"
          }
        }
      ],
      "source": [
        "df.review_label = df.review_label.astype('int')\n",
        "sns.countplot(df.review_label)"
      ]
    },
    {
      "cell_type": "markdown",
      "source": [
        ""
      ],
      "metadata": {
        "id": "Pks5uqf8VUMn"
      }
    },
    {
      "cell_type": "markdown",
      "metadata": {
        "id": "daxI18EcTmSA"
      },
      "source": [
        "As we can see our labels are unbalanced so in the following we should keep in mind to balance them."
      ]
    },
    {
      "cell_type": "code",
      "execution_count": null,
      "metadata": {
        "colab": {
          "base_uri": "https://localhost:8080/",
          "height": 363
        },
        "id": "AvwpyVAP6v8h",
        "outputId": "912c6622-0073-4ddd-b317-a749b74ea6d7"
      },
      "outputs": [
        {
          "output_type": "execute_result",
          "data": {
            "text/plain": [
              "                                post_id  \\\n",
              "0  cb000599-2ee2-42c1-9f0e-32cfeb940398   \n",
              "1  12063741-6634-444b-befa-0be4c95c2b42   \n",
              "2  81c93119-5c06-412f-80aa-363ddb0ebc33   \n",
              "3  b5a5bfa7-03be-408b-b4d9-bca26c0ca59b   \n",
              "4  3414e920-dfaf-44a8-9853-0b03d66e9e2a   \n",
              "5  10aa8a3b-e465-45c4-a218-5b366f6d46af   \n",
              "6  79f05181-ddfd-44b5-a8dc-82f2ce9d4f06   \n",
              "7  3845f74f-6731-44fa-82fc-774eeb4c83d7   \n",
              "8  6fdbdc90-dc85-49ea-a177-9c780389c081   \n",
              "9  c8ba52f7-7025-4f80-9be9-489827bd0988   \n",
              "\n",
              "                                           post_data  review_label  \\\n",
              "0  {\"body_status\": \"witout-color\", \"brand\": \"\\u06...             1   \n",
              "1  {\"body_status\": \"witout-color\", \"brand\": \"\\u06...             0   \n",
              "2  {\"body_status\": \"witout-color\", \"brand\": \"\\u06...             1   \n",
              "3  {\"brand\": \"\\u0633\\u0627\\u06cc\\u0631\", \"brand_m...             1   \n",
              "4  {\"body_status\": \"intact\", \"brand\": \"\\u067e\\u06...             0   \n",
              "5  {\"body_status\": \"witout-color\", \"brand\": \"\\u06...             0   \n",
              "6  {\"body_status\": \"intact\", \"brand\": \"\\u067e\\u06...             1   \n",
              "7  {\"body_status\": \"few-spots-of-color\", \"brand\":...             1   \n",
              "8  {\"body_status\": \"witout-color\", \"brand\": \"\\u06...             0   \n",
              "9  {\"body_status\": \"witout-color\", \"brand\": \"\\u06...             1   \n",
              "\n",
              "   reject_reason_id  \n",
              "0                 0  \n",
              "1                13  \n",
              "2                 0  \n",
              "3                 0  \n",
              "4                12  \n",
              "5                12  \n",
              "6                 0  \n",
              "7                 0  \n",
              "8               139  \n",
              "9                 0  "
            ],
            "text/html": [
              "\n",
              "  <div id=\"df-1dd13762-e2ff-4fe0-8f26-8017adf46d7b\">\n",
              "    <div class=\"colab-df-container\">\n",
              "      <div>\n",
              "<style scoped>\n",
              "    .dataframe tbody tr th:only-of-type {\n",
              "        vertical-align: middle;\n",
              "    }\n",
              "\n",
              "    .dataframe tbody tr th {\n",
              "        vertical-align: top;\n",
              "    }\n",
              "\n",
              "    .dataframe thead th {\n",
              "        text-align: right;\n",
              "    }\n",
              "</style>\n",
              "<table border=\"1\" class=\"dataframe\">\n",
              "  <thead>\n",
              "    <tr style=\"text-align: right;\">\n",
              "      <th></th>\n",
              "      <th>post_id</th>\n",
              "      <th>post_data</th>\n",
              "      <th>review_label</th>\n",
              "      <th>reject_reason_id</th>\n",
              "    </tr>\n",
              "  </thead>\n",
              "  <tbody>\n",
              "    <tr>\n",
              "      <th>0</th>\n",
              "      <td>cb000599-2ee2-42c1-9f0e-32cfeb940398</td>\n",
              "      <td>{\"body_status\": \"witout-color\", \"brand\": \"\\u06...</td>\n",
              "      <td>1</td>\n",
              "      <td>0</td>\n",
              "    </tr>\n",
              "    <tr>\n",
              "      <th>1</th>\n",
              "      <td>12063741-6634-444b-befa-0be4c95c2b42</td>\n",
              "      <td>{\"body_status\": \"witout-color\", \"brand\": \"\\u06...</td>\n",
              "      <td>0</td>\n",
              "      <td>13</td>\n",
              "    </tr>\n",
              "    <tr>\n",
              "      <th>2</th>\n",
              "      <td>81c93119-5c06-412f-80aa-363ddb0ebc33</td>\n",
              "      <td>{\"body_status\": \"witout-color\", \"brand\": \"\\u06...</td>\n",
              "      <td>1</td>\n",
              "      <td>0</td>\n",
              "    </tr>\n",
              "    <tr>\n",
              "      <th>3</th>\n",
              "      <td>b5a5bfa7-03be-408b-b4d9-bca26c0ca59b</td>\n",
              "      <td>{\"brand\": \"\\u0633\\u0627\\u06cc\\u0631\", \"brand_m...</td>\n",
              "      <td>1</td>\n",
              "      <td>0</td>\n",
              "    </tr>\n",
              "    <tr>\n",
              "      <th>4</th>\n",
              "      <td>3414e920-dfaf-44a8-9853-0b03d66e9e2a</td>\n",
              "      <td>{\"body_status\": \"intact\", \"brand\": \"\\u067e\\u06...</td>\n",
              "      <td>0</td>\n",
              "      <td>12</td>\n",
              "    </tr>\n",
              "    <tr>\n",
              "      <th>5</th>\n",
              "      <td>10aa8a3b-e465-45c4-a218-5b366f6d46af</td>\n",
              "      <td>{\"body_status\": \"witout-color\", \"brand\": \"\\u06...</td>\n",
              "      <td>0</td>\n",
              "      <td>12</td>\n",
              "    </tr>\n",
              "    <tr>\n",
              "      <th>6</th>\n",
              "      <td>79f05181-ddfd-44b5-a8dc-82f2ce9d4f06</td>\n",
              "      <td>{\"body_status\": \"intact\", \"brand\": \"\\u067e\\u06...</td>\n",
              "      <td>1</td>\n",
              "      <td>0</td>\n",
              "    </tr>\n",
              "    <tr>\n",
              "      <th>7</th>\n",
              "      <td>3845f74f-6731-44fa-82fc-774eeb4c83d7</td>\n",
              "      <td>{\"body_status\": \"few-spots-of-color\", \"brand\":...</td>\n",
              "      <td>1</td>\n",
              "      <td>0</td>\n",
              "    </tr>\n",
              "    <tr>\n",
              "      <th>8</th>\n",
              "      <td>6fdbdc90-dc85-49ea-a177-9c780389c081</td>\n",
              "      <td>{\"body_status\": \"witout-color\", \"brand\": \"\\u06...</td>\n",
              "      <td>0</td>\n",
              "      <td>139</td>\n",
              "    </tr>\n",
              "    <tr>\n",
              "      <th>9</th>\n",
              "      <td>c8ba52f7-7025-4f80-9be9-489827bd0988</td>\n",
              "      <td>{\"body_status\": \"witout-color\", \"brand\": \"\\u06...</td>\n",
              "      <td>1</td>\n",
              "      <td>0</td>\n",
              "    </tr>\n",
              "  </tbody>\n",
              "</table>\n",
              "</div>\n",
              "      <button class=\"colab-df-convert\" onclick=\"convertToInteractive('df-1dd13762-e2ff-4fe0-8f26-8017adf46d7b')\"\n",
              "              title=\"Convert this dataframe to an interactive table.\"\n",
              "              style=\"display:none;\">\n",
              "        \n",
              "  <svg xmlns=\"http://www.w3.org/2000/svg\" height=\"24px\"viewBox=\"0 0 24 24\"\n",
              "       width=\"24px\">\n",
              "    <path d=\"M0 0h24v24H0V0z\" fill=\"none\"/>\n",
              "    <path d=\"M18.56 5.44l.94 2.06.94-2.06 2.06-.94-2.06-.94-.94-2.06-.94 2.06-2.06.94zm-11 1L8.5 8.5l.94-2.06 2.06-.94-2.06-.94L8.5 2.5l-.94 2.06-2.06.94zm10 10l.94 2.06.94-2.06 2.06-.94-2.06-.94-.94-2.06-.94 2.06-2.06.94z\"/><path d=\"M17.41 7.96l-1.37-1.37c-.4-.4-.92-.59-1.43-.59-.52 0-1.04.2-1.43.59L10.3 9.45l-7.72 7.72c-.78.78-.78 2.05 0 2.83L4 21.41c.39.39.9.59 1.41.59.51 0 1.02-.2 1.41-.59l7.78-7.78 2.81-2.81c.8-.78.8-2.07 0-2.86zM5.41 20L4 18.59l7.72-7.72 1.47 1.35L5.41 20z\"/>\n",
              "  </svg>\n",
              "      </button>\n",
              "      \n",
              "  <style>\n",
              "    .colab-df-container {\n",
              "      display:flex;\n",
              "      flex-wrap:wrap;\n",
              "      gap: 12px;\n",
              "    }\n",
              "\n",
              "    .colab-df-convert {\n",
              "      background-color: #E8F0FE;\n",
              "      border: none;\n",
              "      border-radius: 50%;\n",
              "      cursor: pointer;\n",
              "      display: none;\n",
              "      fill: #1967D2;\n",
              "      height: 32px;\n",
              "      padding: 0 0 0 0;\n",
              "      width: 32px;\n",
              "    }\n",
              "\n",
              "    .colab-df-convert:hover {\n",
              "      background-color: #E2EBFA;\n",
              "      box-shadow: 0px 1px 2px rgba(60, 64, 67, 0.3), 0px 1px 3px 1px rgba(60, 64, 67, 0.15);\n",
              "      fill: #174EA6;\n",
              "    }\n",
              "\n",
              "    [theme=dark] .colab-df-convert {\n",
              "      background-color: #3B4455;\n",
              "      fill: #D2E3FC;\n",
              "    }\n",
              "\n",
              "    [theme=dark] .colab-df-convert:hover {\n",
              "      background-color: #434B5C;\n",
              "      box-shadow: 0px 1px 3px 1px rgba(0, 0, 0, 0.15);\n",
              "      filter: drop-shadow(0px 1px 2px rgba(0, 0, 0, 0.3));\n",
              "      fill: #FFFFFF;\n",
              "    }\n",
              "  </style>\n",
              "\n",
              "      <script>\n",
              "        const buttonEl =\n",
              "          document.querySelector('#df-1dd13762-e2ff-4fe0-8f26-8017adf46d7b button.colab-df-convert');\n",
              "        buttonEl.style.display =\n",
              "          google.colab.kernel.accessAllowed ? 'block' : 'none';\n",
              "\n",
              "        async function convertToInteractive(key) {\n",
              "          const element = document.querySelector('#df-1dd13762-e2ff-4fe0-8f26-8017adf46d7b');\n",
              "          const dataTable =\n",
              "            await google.colab.kernel.invokeFunction('convertToInteractive',\n",
              "                                                     [key], {});\n",
              "          if (!dataTable) return;\n",
              "\n",
              "          const docLinkHtml = 'Like what you see? Visit the ' +\n",
              "            '<a target=\"_blank\" href=https://colab.research.google.com/notebooks/data_table.ipynb>data table notebook</a>'\n",
              "            + ' to learn more about interactive tables.';\n",
              "          element.innerHTML = '';\n",
              "          dataTable['output_type'] = 'display_data';\n",
              "          await google.colab.output.renderOutput(dataTable, element);\n",
              "          const docLink = document.createElement('div');\n",
              "          docLink.innerHTML = docLinkHtml;\n",
              "          element.appendChild(docLink);\n",
              "        }\n",
              "      </script>\n",
              "    </div>\n",
              "  </div>\n",
              "  "
            ]
          },
          "metadata": {},
          "execution_count": 12
        }
      ],
      "source": [
        "df.head(10)"
      ]
    },
    {
      "cell_type": "markdown",
      "metadata": {
        "id": "MjhP6wPGT-mR"
      },
      "source": [
        "Values of column 'post_data' are in dictionary form. So first we import json to conver dictionary string to dictionary and see the 0 ondex of this column. \n"
      ]
    },
    {
      "cell_type": "code",
      "execution_count": null,
      "metadata": {
        "colab": {
          "base_uri": "https://localhost:8080/",
          "height": 87
        },
        "id": "MEWvT_rl0s1f",
        "outputId": "39859af8-c72d-4b9d-d345-861d2fc00c59"
      },
      "outputs": [
        {
          "output_type": "execute_result",
          "data": {
            "text/plain": [
              "\"{'body_status': 'witout-color', 'brand': 'تیبا::Tiba', 'brand_model': 'Tiba Sedan SX', 'category': 'light', 'color': 'سفید', 'description': 'بدون رنگ،کم کارکرد', 'document': 'single-sheet', 'gearbox': 'manual', 'new_price': 103000000, 'post_type': 'فروشی', 'selling_type': 'cash', 'third_party_insurance_deadline': '5', 'title': 'تیبا صندوق\\\\u200cدار SX، مدل ۱۳۹۷', 'usage': 23000, 'year': '۱۳۹۷'}\""
            ],
            "application/vnd.google.colaboratory.intrinsic+json": {
              "type": "string"
            }
          },
          "metadata": {},
          "execution_count": 13
        }
      ],
      "source": [
        "# convert dictionary string to dictionary\n",
        "# using json.loads()\n",
        "import json \n",
        "# using json.loads()\n",
        "# convert dictionary string to dictionary\n",
        "a=df.post_data[0]\n",
        "res = json.loads(a)\n",
        "  \n",
        "# print result\n",
        "str(res)"
      ]
    },
    {
      "cell_type": "markdown",
      "metadata": {
        "id": "V7yBHCRfWrFo"
      },
      "source": [
        "Then we merge the columns which has been added by dictionary to the previous column. We use pd.concat() . It takes some time.\n",
        "\n",
        "---\n",
        "\n"
      ]
    },
    {
      "cell_type": "code",
      "execution_count": null,
      "metadata": {
        "id": "bdVdu4yf0s5g"
      },
      "outputs": [],
      "source": [
        "import json \n",
        "import pandas as pd\n",
        "dff=pd.concat([df, df.post_data.apply(json.loads).apply(pd.Series)], axis=1)"
      ]
    },
    {
      "cell_type": "markdown",
      "metadata": {
        "id": "C5GkrOkvZVKB"
      },
      "source": [
        "We copy the dataframe dff as dataa"
      ]
    },
    {
      "cell_type": "code",
      "execution_count": null,
      "metadata": {
        "id": "e7LYsa2o0s9U"
      },
      "outputs": [],
      "source": [
        "dataa=dff.copy()"
      ]
    },
    {
      "cell_type": "markdown",
      "metadata": {
        "id": "y8eLDIdBZeMx"
      },
      "source": [
        "Transform \"dataa\" to a csv file"
      ]
    },
    {
      "cell_type": "code",
      "execution_count": null,
      "metadata": {
        "id": "0yhW-Zkr0tDx"
      },
      "outputs": [],
      "source": [
        "dataa.to_csv('dataa.csv', index=False)"
      ]
    },
    {
      "cell_type": "markdown",
      "metadata": {
        "id": "-SLpgheTZrnN"
      },
      "source": [
        "Now read the dataa.csv"
      ]
    },
    {
      "cell_type": "code",
      "execution_count": null,
      "metadata": {
        "id": "oIomXvMZ0tIE"
      },
      "outputs": [],
      "source": [
        "dffff=pd.read_csv(\"dataa.csv\")"
      ]
    },
    {
      "cell_type": "markdown",
      "metadata": {
        "id": "J473GsoBZ0GX"
      },
      "source": [
        "Save dataa.csv to our drive."
      ]
    },
    {
      "cell_type": "code",
      "execution_count": null,
      "metadata": {
        "id": "VFRwgWT60tOr"
      },
      "outputs": [],
      "source": [
        "!cp dataa.csv \"drive/My Drive/\""
      ]
    },
    {
      "cell_type": "markdown",
      "metadata": {
        "id": "bgwWB4uSZ9QY"
      },
      "source": [
        "Let's take a look to our dataframe 'dffff'\n",
        "\n",
        "# Looking into the training dataset\n",
        "Printing first 5 rows of the train dataset.\n",
        "\n"
      ]
    },
    {
      "cell_type": "code",
      "execution_count": null,
      "metadata": {
        "id": "A7JYOyz1iNwr",
        "colab": {
          "base_uri": "https://localhost:8080/",
          "height": 652
        },
        "outputId": "7a618918-6926-4541-cd11-04a8e7649b98"
      },
      "outputs": [
        {
          "output_type": "execute_result",
          "data": {
            "text/plain": [
              "                                post_id  \\\n",
              "0  cb000599-2ee2-42c1-9f0e-32cfeb940398   \n",
              "1  12063741-6634-444b-befa-0be4c95c2b42   \n",
              "2  81c93119-5c06-412f-80aa-363ddb0ebc33   \n",
              "3  b5a5bfa7-03be-408b-b4d9-bca26c0ca59b   \n",
              "4  3414e920-dfaf-44a8-9853-0b03d66e9e2a   \n",
              "\n",
              "                                           post_data  review_label  \\\n",
              "0  {\"body_status\": \"witout-color\", \"brand\": \"\\u06...             1   \n",
              "1  {\"body_status\": \"witout-color\", \"brand\": \"\\u06...             0   \n",
              "2  {\"body_status\": \"witout-color\", \"brand\": \"\\u06...             1   \n",
              "3  {\"brand\": \"\\u0633\\u0627\\u06cc\\u0631\", \"brand_m...             1   \n",
              "4  {\"body_status\": \"intact\", \"brand\": \"\\u067e\\u06...             0   \n",
              "\n",
              "   reject_reason_id   body_status                            brand  \\\n",
              "0                 0  witout-color                       تیبا::Tiba   \n",
              "1                13  witout-color                     لیفان::Lifan   \n",
              "2                 0  witout-color             پژو ۴۰۵::Peugeot 405   \n",
              "3                 0           NaN                             سایر   \n",
              "4                12        intact  پژو ۲۰۶‍ صندوق‌دار::Peugeot 206   \n",
              "\n",
              "         brand_model category      color  \\\n",
              "0      Tiba Sedan SX    light       سفید   \n",
              "1   Lifan X60 manual    light       سفید   \n",
              "2    Peugeot 405 SLX    light    خاکستری   \n",
              "3  Dena basic 1700cc    light  سفید صدفی   \n",
              "4  Peugeot 206 SD V8    light       سفید   \n",
              "\n",
              "                                         description      document gearbox  \\\n",
              "0                                 بدون رنگ،کم کارکرد  single-sheet  manual   \n",
              "1  اسفند 95\\nبیمه بدنه کلا تخفیف \\nمانیتور 10 این...  single-sheet  manual   \n",
              "2  بیمه شخص ثالث،بیمه بدنه،دارای روکش صندلی و کفی...  single-sheet  manual   \n",
              "3  ■نمایندگی رجبی کد ۵٣٠٧٣٢\\n□فروش نقدی ■ شعبه تو...           NaN     NaN   \n",
              "4          ماشین صفر برج ۹سال ۹۹ سند رهن ایران خودرو  single-sheet  manual   \n",
              "\n",
              "     new_price post_type selling_type  third_party_insurance_deadline  \\\n",
              "0  103000000.0     فروشی         cash                             5.0   \n",
              "1   26700000.0     فروشی         cash                             1.0   \n",
              "2  190000000.0     فروشی         cash                             8.0   \n",
              "3          NaN     فروشی          NaN                             NaN   \n",
              "4  240000000.0     فروشی         cash                             7.0   \n",
              "\n",
              "                                               title     usage  year  \\\n",
              "0                        تیبا صندوق‌دار SX، مدل ۱۳۹۷   23000.0  ۱۳۹۷   \n",
              "1                        لیفان X60 دنده‌ای، مدل ۱۳۹۵  120000.0  ۱۳۹۵   \n",
              "2                       پژو 405 SLX بنزینی، مدل ۱۳۹۹    1400.0  ۱۳۹۹   \n",
              "3  دنا DENA معمولی EF7 صفر // مدل 99 خشک آماده تحویل       0.0  ۱۳۹۹   \n",
              "4                            پژو 206 SD V8، مدل ۱۳۹۹     800.0  ۱۳۹۹   \n",
              "\n",
              "                             options  \n",
              "0                                NaN  \n",
              "1                                NaN  \n",
              "2  {'electric_folding_mirror': True}  \n",
              "3                                NaN  \n",
              "4                                NaN  "
            ],
            "text/html": [
              "\n",
              "  <div id=\"df-46500ff0-8e07-4664-bcbb-7b90b270188c\">\n",
              "    <div class=\"colab-df-container\">\n",
              "      <div>\n",
              "<style scoped>\n",
              "    .dataframe tbody tr th:only-of-type {\n",
              "        vertical-align: middle;\n",
              "    }\n",
              "\n",
              "    .dataframe tbody tr th {\n",
              "        vertical-align: top;\n",
              "    }\n",
              "\n",
              "    .dataframe thead th {\n",
              "        text-align: right;\n",
              "    }\n",
              "</style>\n",
              "<table border=\"1\" class=\"dataframe\">\n",
              "  <thead>\n",
              "    <tr style=\"text-align: right;\">\n",
              "      <th></th>\n",
              "      <th>post_id</th>\n",
              "      <th>post_data</th>\n",
              "      <th>review_label</th>\n",
              "      <th>reject_reason_id</th>\n",
              "      <th>body_status</th>\n",
              "      <th>brand</th>\n",
              "      <th>brand_model</th>\n",
              "      <th>category</th>\n",
              "      <th>color</th>\n",
              "      <th>description</th>\n",
              "      <th>document</th>\n",
              "      <th>gearbox</th>\n",
              "      <th>new_price</th>\n",
              "      <th>post_type</th>\n",
              "      <th>selling_type</th>\n",
              "      <th>third_party_insurance_deadline</th>\n",
              "      <th>title</th>\n",
              "      <th>usage</th>\n",
              "      <th>year</th>\n",
              "      <th>options</th>\n",
              "    </tr>\n",
              "  </thead>\n",
              "  <tbody>\n",
              "    <tr>\n",
              "      <th>0</th>\n",
              "      <td>cb000599-2ee2-42c1-9f0e-32cfeb940398</td>\n",
              "      <td>{\"body_status\": \"witout-color\", \"brand\": \"\\u06...</td>\n",
              "      <td>1</td>\n",
              "      <td>0</td>\n",
              "      <td>witout-color</td>\n",
              "      <td>تیبا::Tiba</td>\n",
              "      <td>Tiba Sedan SX</td>\n",
              "      <td>light</td>\n",
              "      <td>سفید</td>\n",
              "      <td>بدون رنگ،کم کارکرد</td>\n",
              "      <td>single-sheet</td>\n",
              "      <td>manual</td>\n",
              "      <td>103000000.0</td>\n",
              "      <td>فروشی</td>\n",
              "      <td>cash</td>\n",
              "      <td>5.0</td>\n",
              "      <td>تیبا صندوق‌دار SX، مدل ۱۳۹۷</td>\n",
              "      <td>23000.0</td>\n",
              "      <td>۱۳۹۷</td>\n",
              "      <td>NaN</td>\n",
              "    </tr>\n",
              "    <tr>\n",
              "      <th>1</th>\n",
              "      <td>12063741-6634-444b-befa-0be4c95c2b42</td>\n",
              "      <td>{\"body_status\": \"witout-color\", \"brand\": \"\\u06...</td>\n",
              "      <td>0</td>\n",
              "      <td>13</td>\n",
              "      <td>witout-color</td>\n",
              "      <td>لیفان::Lifan</td>\n",
              "      <td>Lifan X60 manual</td>\n",
              "      <td>light</td>\n",
              "      <td>سفید</td>\n",
              "      <td>اسفند 95\\nبیمه بدنه کلا تخفیف \\nمانیتور 10 این...</td>\n",
              "      <td>single-sheet</td>\n",
              "      <td>manual</td>\n",
              "      <td>26700000.0</td>\n",
              "      <td>فروشی</td>\n",
              "      <td>cash</td>\n",
              "      <td>1.0</td>\n",
              "      <td>لیفان X60 دنده‌ای، مدل ۱۳۹۵</td>\n",
              "      <td>120000.0</td>\n",
              "      <td>۱۳۹۵</td>\n",
              "      <td>NaN</td>\n",
              "    </tr>\n",
              "    <tr>\n",
              "      <th>2</th>\n",
              "      <td>81c93119-5c06-412f-80aa-363ddb0ebc33</td>\n",
              "      <td>{\"body_status\": \"witout-color\", \"brand\": \"\\u06...</td>\n",
              "      <td>1</td>\n",
              "      <td>0</td>\n",
              "      <td>witout-color</td>\n",
              "      <td>پژو ۴۰۵::Peugeot 405</td>\n",
              "      <td>Peugeot 405 SLX</td>\n",
              "      <td>light</td>\n",
              "      <td>خاکستری</td>\n",
              "      <td>بیمه شخص ثالث،بیمه بدنه،دارای روکش صندلی و کفی...</td>\n",
              "      <td>single-sheet</td>\n",
              "      <td>manual</td>\n",
              "      <td>190000000.0</td>\n",
              "      <td>فروشی</td>\n",
              "      <td>cash</td>\n",
              "      <td>8.0</td>\n",
              "      <td>پژو 405 SLX بنزینی، مدل ۱۳۹۹</td>\n",
              "      <td>1400.0</td>\n",
              "      <td>۱۳۹۹</td>\n",
              "      <td>{'electric_folding_mirror': True}</td>\n",
              "    </tr>\n",
              "    <tr>\n",
              "      <th>3</th>\n",
              "      <td>b5a5bfa7-03be-408b-b4d9-bca26c0ca59b</td>\n",
              "      <td>{\"brand\": \"\\u0633\\u0627\\u06cc\\u0631\", \"brand_m...</td>\n",
              "      <td>1</td>\n",
              "      <td>0</td>\n",
              "      <td>NaN</td>\n",
              "      <td>سایر</td>\n",
              "      <td>Dena basic 1700cc</td>\n",
              "      <td>light</td>\n",
              "      <td>سفید صدفی</td>\n",
              "      <td>■نمایندگی رجبی کد ۵٣٠٧٣٢\\n□فروش نقدی ■ شعبه تو...</td>\n",
              "      <td>NaN</td>\n",
              "      <td>NaN</td>\n",
              "      <td>NaN</td>\n",
              "      <td>فروشی</td>\n",
              "      <td>NaN</td>\n",
              "      <td>NaN</td>\n",
              "      <td>دنا DENA معمولی EF7 صفر // مدل 99 خشک آماده تحویل</td>\n",
              "      <td>0.0</td>\n",
              "      <td>۱۳۹۹</td>\n",
              "      <td>NaN</td>\n",
              "    </tr>\n",
              "    <tr>\n",
              "      <th>4</th>\n",
              "      <td>3414e920-dfaf-44a8-9853-0b03d66e9e2a</td>\n",
              "      <td>{\"body_status\": \"intact\", \"brand\": \"\\u067e\\u06...</td>\n",
              "      <td>0</td>\n",
              "      <td>12</td>\n",
              "      <td>intact</td>\n",
              "      <td>پژو ۲۰۶‍ صندوق‌دار::Peugeot 206</td>\n",
              "      <td>Peugeot 206 SD V8</td>\n",
              "      <td>light</td>\n",
              "      <td>سفید</td>\n",
              "      <td>ماشین صفر برج ۹سال ۹۹ سند رهن ایران خودرو</td>\n",
              "      <td>single-sheet</td>\n",
              "      <td>manual</td>\n",
              "      <td>240000000.0</td>\n",
              "      <td>فروشی</td>\n",
              "      <td>cash</td>\n",
              "      <td>7.0</td>\n",
              "      <td>پژو 206 SD V8، مدل ۱۳۹۹</td>\n",
              "      <td>800.0</td>\n",
              "      <td>۱۳۹۹</td>\n",
              "      <td>NaN</td>\n",
              "    </tr>\n",
              "  </tbody>\n",
              "</table>\n",
              "</div>\n",
              "      <button class=\"colab-df-convert\" onclick=\"convertToInteractive('df-46500ff0-8e07-4664-bcbb-7b90b270188c')\"\n",
              "              title=\"Convert this dataframe to an interactive table.\"\n",
              "              style=\"display:none;\">\n",
              "        \n",
              "  <svg xmlns=\"http://www.w3.org/2000/svg\" height=\"24px\"viewBox=\"0 0 24 24\"\n",
              "       width=\"24px\">\n",
              "    <path d=\"M0 0h24v24H0V0z\" fill=\"none\"/>\n",
              "    <path d=\"M18.56 5.44l.94 2.06.94-2.06 2.06-.94-2.06-.94-.94-2.06-.94 2.06-2.06.94zm-11 1L8.5 8.5l.94-2.06 2.06-.94-2.06-.94L8.5 2.5l-.94 2.06-2.06.94zm10 10l.94 2.06.94-2.06 2.06-.94-2.06-.94-.94-2.06-.94 2.06-2.06.94z\"/><path d=\"M17.41 7.96l-1.37-1.37c-.4-.4-.92-.59-1.43-.59-.52 0-1.04.2-1.43.59L10.3 9.45l-7.72 7.72c-.78.78-.78 2.05 0 2.83L4 21.41c.39.39.9.59 1.41.59.51 0 1.02-.2 1.41-.59l7.78-7.78 2.81-2.81c.8-.78.8-2.07 0-2.86zM5.41 20L4 18.59l7.72-7.72 1.47 1.35L5.41 20z\"/>\n",
              "  </svg>\n",
              "      </button>\n",
              "      \n",
              "  <style>\n",
              "    .colab-df-container {\n",
              "      display:flex;\n",
              "      flex-wrap:wrap;\n",
              "      gap: 12px;\n",
              "    }\n",
              "\n",
              "    .colab-df-convert {\n",
              "      background-color: #E8F0FE;\n",
              "      border: none;\n",
              "      border-radius: 50%;\n",
              "      cursor: pointer;\n",
              "      display: none;\n",
              "      fill: #1967D2;\n",
              "      height: 32px;\n",
              "      padding: 0 0 0 0;\n",
              "      width: 32px;\n",
              "    }\n",
              "\n",
              "    .colab-df-convert:hover {\n",
              "      background-color: #E2EBFA;\n",
              "      box-shadow: 0px 1px 2px rgba(60, 64, 67, 0.3), 0px 1px 3px 1px rgba(60, 64, 67, 0.15);\n",
              "      fill: #174EA6;\n",
              "    }\n",
              "\n",
              "    [theme=dark] .colab-df-convert {\n",
              "      background-color: #3B4455;\n",
              "      fill: #D2E3FC;\n",
              "    }\n",
              "\n",
              "    [theme=dark] .colab-df-convert:hover {\n",
              "      background-color: #434B5C;\n",
              "      box-shadow: 0px 1px 3px 1px rgba(0, 0, 0, 0.15);\n",
              "      filter: drop-shadow(0px 1px 2px rgba(0, 0, 0, 0.3));\n",
              "      fill: #FFFFFF;\n",
              "    }\n",
              "  </style>\n",
              "\n",
              "      <script>\n",
              "        const buttonEl =\n",
              "          document.querySelector('#df-46500ff0-8e07-4664-bcbb-7b90b270188c button.colab-df-convert');\n",
              "        buttonEl.style.display =\n",
              "          google.colab.kernel.accessAllowed ? 'block' : 'none';\n",
              "\n",
              "        async function convertToInteractive(key) {\n",
              "          const element = document.querySelector('#df-46500ff0-8e07-4664-bcbb-7b90b270188c');\n",
              "          const dataTable =\n",
              "            await google.colab.kernel.invokeFunction('convertToInteractive',\n",
              "                                                     [key], {});\n",
              "          if (!dataTable) return;\n",
              "\n",
              "          const docLinkHtml = 'Like what you see? Visit the ' +\n",
              "            '<a target=\"_blank\" href=https://colab.research.google.com/notebooks/data_table.ipynb>data table notebook</a>'\n",
              "            + ' to learn more about interactive tables.';\n",
              "          element.innerHTML = '';\n",
              "          dataTable['output_type'] = 'display_data';\n",
              "          await google.colab.output.renderOutput(dataTable, element);\n",
              "          const docLink = document.createElement('div');\n",
              "          docLink.innerHTML = docLinkHtml;\n",
              "          element.appendChild(docLink);\n",
              "        }\n",
              "      </script>\n",
              "    </div>\n",
              "  </div>\n",
              "  "
            ]
          },
          "metadata": {},
          "execution_count": 19
        }
      ],
      "source": [
        "dffff.head(5)"
      ]
    },
    {
      "cell_type": "code",
      "source": [
        "dffff.columns"
      ],
      "metadata": {
        "colab": {
          "base_uri": "https://localhost:8080/"
        },
        "id": "cFPQGUZIOgVi",
        "outputId": "001aca85-de1e-4411-cc29-d84060d5e408"
      },
      "execution_count": null,
      "outputs": [
        {
          "output_type": "execute_result",
          "data": {
            "text/plain": [
              "Index(['post_id', 'post_data', 'review_label', 'reject_reason_id',\n",
              "       'body_status', 'brand', 'brand_model', 'category', 'color',\n",
              "       'description', 'document', 'gearbox', 'new_price', 'post_type',\n",
              "       'selling_type', 'third_party_insurance_deadline', 'title', 'usage',\n",
              "       'year', 'options'],\n",
              "      dtype='object')"
            ]
          },
          "metadata": {},
          "execution_count": 20
        }
      ]
    },
    {
      "cell_type": "markdown",
      "source": [
        "Below is a brief information about each columns of the dataset:\n",
        "\n",
        "1.   'post_id':Unique id of the post\n",
        "2.   'post_data\n",
        "3.   'review_label'\n",
        "4.   'reject_reason_id'\n",
        "5.   'body_status'\n",
        "6.   'brand':english and persian name of the brand separated with ::(two colons)\n",
        "7.   'brand_model'\n",
        "8.   'category'\n",
        "10.  'color'\n",
        "11.  'description'\n",
        "12.  'document'\n",
        "13.  'gearbox'\n",
        "14.  'new_price':Price of the post in Iranian Toman.\n",
        "15.  'post_type'\n",
        "16.  'selling_type'\n",
        "17.  'third_party_insurance_deadline'\n",
        "18.  'title':Title of the post. \n",
        "19.  'usage'\n",
        "20.   'year'\n",
        "21.   'options'"
      ],
      "metadata": {
        "id": "oGGtbM9RLtQZ"
      }
    },
    {
      "cell_type": "markdown",
      "source": [
        "Total rows and columns\n",
        "\n",
        "We can see that there are 540362 rows and 20 columns in our training dataset."
      ],
      "metadata": {
        "id": "yyz7M4YYSdls"
      }
    },
    {
      "cell_type": "code",
      "source": [
        "dffff.shape"
      ],
      "metadata": {
        "colab": {
          "base_uri": "https://localhost:8080/"
        },
        "id": "zvqfoiI8Scm9",
        "outputId": "6f74b024-e109-4cd7-c05b-6d7bffb06e30"
      },
      "execution_count": null,
      "outputs": [
        {
          "output_type": "execute_result",
          "data": {
            "text/plain": [
              "(540362, 20)"
            ]
          },
          "metadata": {},
          "execution_count": 21
        }
      ]
    },
    {
      "cell_type": "markdown",
      "source": [
        "We use info() method to see more information of our train dataset.\n",
        "\n"
      ],
      "metadata": {
        "id": "cHjoyQN0Swqh"
      }
    },
    {
      "cell_type": "code",
      "execution_count": null,
      "metadata": {
        "colab": {
          "base_uri": "https://localhost:8080/"
        },
        "id": "503PaWG_yVpQ",
        "outputId": "812b5f52-0fe9-464c-9373-0aa1e026d057"
      },
      "outputs": [
        {
          "output_type": "stream",
          "name": "stdout",
          "text": [
            "<class 'pandas.core.frame.DataFrame'>\n",
            "RangeIndex: 540362 entries, 0 to 540361\n",
            "Data columns (total 20 columns):\n",
            " #   Column                          Non-Null Count   Dtype  \n",
            "---  ------                          --------------   -----  \n",
            " 0   post_id                         540362 non-null  object \n",
            " 1   post_data                       540362 non-null  object \n",
            " 2   review_label                    540362 non-null  int64  \n",
            " 3   reject_reason_id                540362 non-null  int64  \n",
            " 4   body_status                     427747 non-null  object \n",
            " 5   brand                           540340 non-null  object \n",
            " 6   brand_model                     540341 non-null  object \n",
            " 7   category                        540362 non-null  object \n",
            " 8   color                           523122 non-null  object \n",
            " 9   description                     540362 non-null  object \n",
            " 10  document                        423758 non-null  object \n",
            " 11  gearbox                         428203 non-null  object \n",
            " 12  new_price                       402278 non-null  float64\n",
            " 13  post_type                       540345 non-null  object \n",
            " 14  selling_type                    420594 non-null  object \n",
            " 15  third_party_insurance_deadline  420933 non-null  float64\n",
            " 16  title                           540356 non-null  object \n",
            " 17  usage                           540344 non-null  float64\n",
            " 18  year                            540345 non-null  object \n",
            " 19  options                         111297 non-null  object \n",
            "dtypes: float64(3), int64(2), object(15)\n",
            "memory usage: 82.5+ MB\n"
          ]
        }
      ],
      "source": [
        "dffff.info()"
      ]
    },
    {
      "cell_type": "markdown",
      "source": [
        "We can see that ..... value is missing for many rows.\n",
        "\n",
        "Out of ....  rows, the value is present only in .... rows.\n",
        "\n",
        "Similarly, Cabin values are also missing in many rows. Only ... out of ... rows have Cabin values."
      ],
      "metadata": {
        "id": "opDmG9YHT_kT"
      }
    },
    {
      "cell_type": "markdown",
      "source": [
        "Describing training dataset\n",
        "\n",
        "describe() method can show different values like count, mean, standard deviation, etc. of numeric data types."
      ],
      "metadata": {
        "id": "03M91iWoTdaL"
      }
    },
    {
      "cell_type": "code",
      "execution_count": null,
      "metadata": {
        "colab": {
          "base_uri": "https://localhost:8080/",
          "height": 300
        },
        "id": "1WPiCwCtyVk4",
        "outputId": "49d7299e-dadd-4e9b-be71-9f045a745f52"
      },
      "outputs": [
        {
          "output_type": "execute_result",
          "data": {
            "text/plain": [
              "        review_label  reject_reason_id     new_price  \\\n",
              "count  540362.000000     540362.000000  4.022780e+05   \n",
              "mean        0.770539         21.240174  2.076257e+08   \n",
              "std         0.420487         50.635343  7.809686e+08   \n",
              "min         0.000000          0.000000  1.000000e+06   \n",
              "25%         1.000000          0.000000  6.300000e+07   \n",
              "50%         1.000000          0.000000  1.120000e+08   \n",
              "75%         1.000000          0.000000  1.930000e+08   \n",
              "max         1.000000        163.000000  5.000000e+10   \n",
              "\n",
              "       third_party_insurance_deadline          usage  \n",
              "count                   420933.000000  540344.000000  \n",
              "mean                         7.889914  105651.165735  \n",
              "std                          3.465773  115980.108330  \n",
              "min                          1.000000       0.000000  \n",
              "25%                          5.000000     290.000000  \n",
              "50%                          8.000000   70000.000000  \n",
              "75%                         11.000000  180000.000000  \n",
              "max                         12.000000  500000.000000  "
            ],
            "text/html": [
              "\n",
              "  <div id=\"df-44f56545-9d0e-421b-a28b-4823892e5003\">\n",
              "    <div class=\"colab-df-container\">\n",
              "      <div>\n",
              "<style scoped>\n",
              "    .dataframe tbody tr th:only-of-type {\n",
              "        vertical-align: middle;\n",
              "    }\n",
              "\n",
              "    .dataframe tbody tr th {\n",
              "        vertical-align: top;\n",
              "    }\n",
              "\n",
              "    .dataframe thead th {\n",
              "        text-align: right;\n",
              "    }\n",
              "</style>\n",
              "<table border=\"1\" class=\"dataframe\">\n",
              "  <thead>\n",
              "    <tr style=\"text-align: right;\">\n",
              "      <th></th>\n",
              "      <th>review_label</th>\n",
              "      <th>reject_reason_id</th>\n",
              "      <th>new_price</th>\n",
              "      <th>third_party_insurance_deadline</th>\n",
              "      <th>usage</th>\n",
              "    </tr>\n",
              "  </thead>\n",
              "  <tbody>\n",
              "    <tr>\n",
              "      <th>count</th>\n",
              "      <td>540362.000000</td>\n",
              "      <td>540362.000000</td>\n",
              "      <td>4.022780e+05</td>\n",
              "      <td>420933.000000</td>\n",
              "      <td>540344.000000</td>\n",
              "    </tr>\n",
              "    <tr>\n",
              "      <th>mean</th>\n",
              "      <td>0.770539</td>\n",
              "      <td>21.240174</td>\n",
              "      <td>2.076257e+08</td>\n",
              "      <td>7.889914</td>\n",
              "      <td>105651.165735</td>\n",
              "    </tr>\n",
              "    <tr>\n",
              "      <th>std</th>\n",
              "      <td>0.420487</td>\n",
              "      <td>50.635343</td>\n",
              "      <td>7.809686e+08</td>\n",
              "      <td>3.465773</td>\n",
              "      <td>115980.108330</td>\n",
              "    </tr>\n",
              "    <tr>\n",
              "      <th>min</th>\n",
              "      <td>0.000000</td>\n",
              "      <td>0.000000</td>\n",
              "      <td>1.000000e+06</td>\n",
              "      <td>1.000000</td>\n",
              "      <td>0.000000</td>\n",
              "    </tr>\n",
              "    <tr>\n",
              "      <th>25%</th>\n",
              "      <td>1.000000</td>\n",
              "      <td>0.000000</td>\n",
              "      <td>6.300000e+07</td>\n",
              "      <td>5.000000</td>\n",
              "      <td>290.000000</td>\n",
              "    </tr>\n",
              "    <tr>\n",
              "      <th>50%</th>\n",
              "      <td>1.000000</td>\n",
              "      <td>0.000000</td>\n",
              "      <td>1.120000e+08</td>\n",
              "      <td>8.000000</td>\n",
              "      <td>70000.000000</td>\n",
              "    </tr>\n",
              "    <tr>\n",
              "      <th>75%</th>\n",
              "      <td>1.000000</td>\n",
              "      <td>0.000000</td>\n",
              "      <td>1.930000e+08</td>\n",
              "      <td>11.000000</td>\n",
              "      <td>180000.000000</td>\n",
              "    </tr>\n",
              "    <tr>\n",
              "      <th>max</th>\n",
              "      <td>1.000000</td>\n",
              "      <td>163.000000</td>\n",
              "      <td>5.000000e+10</td>\n",
              "      <td>12.000000</td>\n",
              "      <td>500000.000000</td>\n",
              "    </tr>\n",
              "  </tbody>\n",
              "</table>\n",
              "</div>\n",
              "      <button class=\"colab-df-convert\" onclick=\"convertToInteractive('df-44f56545-9d0e-421b-a28b-4823892e5003')\"\n",
              "              title=\"Convert this dataframe to an interactive table.\"\n",
              "              style=\"display:none;\">\n",
              "        \n",
              "  <svg xmlns=\"http://www.w3.org/2000/svg\" height=\"24px\"viewBox=\"0 0 24 24\"\n",
              "       width=\"24px\">\n",
              "    <path d=\"M0 0h24v24H0V0z\" fill=\"none\"/>\n",
              "    <path d=\"M18.56 5.44l.94 2.06.94-2.06 2.06-.94-2.06-.94-.94-2.06-.94 2.06-2.06.94zm-11 1L8.5 8.5l.94-2.06 2.06-.94-2.06-.94L8.5 2.5l-.94 2.06-2.06.94zm10 10l.94 2.06.94-2.06 2.06-.94-2.06-.94-.94-2.06-.94 2.06-2.06.94z\"/><path d=\"M17.41 7.96l-1.37-1.37c-.4-.4-.92-.59-1.43-.59-.52 0-1.04.2-1.43.59L10.3 9.45l-7.72 7.72c-.78.78-.78 2.05 0 2.83L4 21.41c.39.39.9.59 1.41.59.51 0 1.02-.2 1.41-.59l7.78-7.78 2.81-2.81c.8-.78.8-2.07 0-2.86zM5.41 20L4 18.59l7.72-7.72 1.47 1.35L5.41 20z\"/>\n",
              "  </svg>\n",
              "      </button>\n",
              "      \n",
              "  <style>\n",
              "    .colab-df-container {\n",
              "      display:flex;\n",
              "      flex-wrap:wrap;\n",
              "      gap: 12px;\n",
              "    }\n",
              "\n",
              "    .colab-df-convert {\n",
              "      background-color: #E8F0FE;\n",
              "      border: none;\n",
              "      border-radius: 50%;\n",
              "      cursor: pointer;\n",
              "      display: none;\n",
              "      fill: #1967D2;\n",
              "      height: 32px;\n",
              "      padding: 0 0 0 0;\n",
              "      width: 32px;\n",
              "    }\n",
              "\n",
              "    .colab-df-convert:hover {\n",
              "      background-color: #E2EBFA;\n",
              "      box-shadow: 0px 1px 2px rgba(60, 64, 67, 0.3), 0px 1px 3px 1px rgba(60, 64, 67, 0.15);\n",
              "      fill: #174EA6;\n",
              "    }\n",
              "\n",
              "    [theme=dark] .colab-df-convert {\n",
              "      background-color: #3B4455;\n",
              "      fill: #D2E3FC;\n",
              "    }\n",
              "\n",
              "    [theme=dark] .colab-df-convert:hover {\n",
              "      background-color: #434B5C;\n",
              "      box-shadow: 0px 1px 3px 1px rgba(0, 0, 0, 0.15);\n",
              "      filter: drop-shadow(0px 1px 2px rgba(0, 0, 0, 0.3));\n",
              "      fill: #FFFFFF;\n",
              "    }\n",
              "  </style>\n",
              "\n",
              "      <script>\n",
              "        const buttonEl =\n",
              "          document.querySelector('#df-44f56545-9d0e-421b-a28b-4823892e5003 button.colab-df-convert');\n",
              "        buttonEl.style.display =\n",
              "          google.colab.kernel.accessAllowed ? 'block' : 'none';\n",
              "\n",
              "        async function convertToInteractive(key) {\n",
              "          const element = document.querySelector('#df-44f56545-9d0e-421b-a28b-4823892e5003');\n",
              "          const dataTable =\n",
              "            await google.colab.kernel.invokeFunction('convertToInteractive',\n",
              "                                                     [key], {});\n",
              "          if (!dataTable) return;\n",
              "\n",
              "          const docLinkHtml = 'Like what you see? Visit the ' +\n",
              "            '<a target=\"_blank\" href=https://colab.research.google.com/notebooks/data_table.ipynb>data table notebook</a>'\n",
              "            + ' to learn more about interactive tables.';\n",
              "          element.innerHTML = '';\n",
              "          dataTable['output_type'] = 'display_data';\n",
              "          await google.colab.output.renderOutput(dataTable, element);\n",
              "          const docLink = document.createElement('div');\n",
              "          docLink.innerHTML = docLinkHtml;\n",
              "          element.appendChild(docLink);\n",
              "        }\n",
              "      </script>\n",
              "    </div>\n",
              "  </div>\n",
              "  "
            ]
          },
          "metadata": {},
          "execution_count": 23
        }
      ],
      "source": [
        "dffff.describe()"
      ]
    },
    {
      "cell_type": "markdown",
      "source": [
        "describe(include = ['O']) will show the descriptive statistics of object data types.\n",
        "\n"
      ],
      "metadata": {
        "id": "cRzO851iThmT"
      }
    },
    {
      "cell_type": "code",
      "execution_count": null,
      "metadata": {
        "colab": {
          "base_uri": "https://localhost:8080/",
          "height": 291
        },
        "id": "bJwVE9A1yefU",
        "outputId": "fe50323b-b0db-4f0f-b802-9e1b4c841118"
      },
      "outputs": [
        {
          "output_type": "execute_result",
          "data": {
            "text/plain": [
              "                                     post_id  \\\n",
              "count                                 540362   \n",
              "unique                                540362   \n",
              "top     cb000599-2ee2-42c1-9f0e-32cfeb940398   \n",
              "freq                                       1   \n",
              "\n",
              "                                                post_data   body_status  \\\n",
              "count                                              540362        427747   \n",
              "unique                                             532875            16   \n",
              "top     {\"body_status\": \"few-spots-of-color\", \"brand\":...  witout-color   \n",
              "freq                                                  102        138515   \n",
              "\n",
              "         brand         brand_model category   color  description  \\\n",
              "count   540340              540341   540362  523122       540362   \n",
              "unique      30                1134        1      38       508563   \n",
              "top       سایر  Pride Sedan petrol    light    سفید  ***********   \n",
              "freq     98878               20645   540362  291112         1248   \n",
              "\n",
              "            document gearbox post_type selling_type                    title  \\\n",
              "count         423758  428203    540345       420594                   540356   \n",
              "unique             3       2         1            3                   188015   \n",
              "top     single-sheet  manual     فروشی         cash  کوییک دنده‌ای، مدل ۱۳۹۹   \n",
              "freq          229382  372642    540345       398029                     2852   \n",
              "\n",
              "          year           options  \n",
              "count   540345            111297  \n",
              "unique      36              8844  \n",
              "top       ۱۳۹۹  {'sensor': True}  \n",
              "freq     77751             13764  "
            ],
            "text/html": [
              "\n",
              "  <div id=\"df-c26170b7-433b-4164-bbcb-f93b838c974c\">\n",
              "    <div class=\"colab-df-container\">\n",
              "      <div>\n",
              "<style scoped>\n",
              "    .dataframe tbody tr th:only-of-type {\n",
              "        vertical-align: middle;\n",
              "    }\n",
              "\n",
              "    .dataframe tbody tr th {\n",
              "        vertical-align: top;\n",
              "    }\n",
              "\n",
              "    .dataframe thead th {\n",
              "        text-align: right;\n",
              "    }\n",
              "</style>\n",
              "<table border=\"1\" class=\"dataframe\">\n",
              "  <thead>\n",
              "    <tr style=\"text-align: right;\">\n",
              "      <th></th>\n",
              "      <th>post_id</th>\n",
              "      <th>post_data</th>\n",
              "      <th>body_status</th>\n",
              "      <th>brand</th>\n",
              "      <th>brand_model</th>\n",
              "      <th>category</th>\n",
              "      <th>color</th>\n",
              "      <th>description</th>\n",
              "      <th>document</th>\n",
              "      <th>gearbox</th>\n",
              "      <th>post_type</th>\n",
              "      <th>selling_type</th>\n",
              "      <th>title</th>\n",
              "      <th>year</th>\n",
              "      <th>options</th>\n",
              "    </tr>\n",
              "  </thead>\n",
              "  <tbody>\n",
              "    <tr>\n",
              "      <th>count</th>\n",
              "      <td>540362</td>\n",
              "      <td>540362</td>\n",
              "      <td>427747</td>\n",
              "      <td>540340</td>\n",
              "      <td>540341</td>\n",
              "      <td>540362</td>\n",
              "      <td>523122</td>\n",
              "      <td>540362</td>\n",
              "      <td>423758</td>\n",
              "      <td>428203</td>\n",
              "      <td>540345</td>\n",
              "      <td>420594</td>\n",
              "      <td>540356</td>\n",
              "      <td>540345</td>\n",
              "      <td>111297</td>\n",
              "    </tr>\n",
              "    <tr>\n",
              "      <th>unique</th>\n",
              "      <td>540362</td>\n",
              "      <td>532875</td>\n",
              "      <td>16</td>\n",
              "      <td>30</td>\n",
              "      <td>1134</td>\n",
              "      <td>1</td>\n",
              "      <td>38</td>\n",
              "      <td>508563</td>\n",
              "      <td>3</td>\n",
              "      <td>2</td>\n",
              "      <td>1</td>\n",
              "      <td>3</td>\n",
              "      <td>188015</td>\n",
              "      <td>36</td>\n",
              "      <td>8844</td>\n",
              "    </tr>\n",
              "    <tr>\n",
              "      <th>top</th>\n",
              "      <td>cb000599-2ee2-42c1-9f0e-32cfeb940398</td>\n",
              "      <td>{\"body_status\": \"few-spots-of-color\", \"brand\":...</td>\n",
              "      <td>witout-color</td>\n",
              "      <td>سایر</td>\n",
              "      <td>Pride Sedan petrol</td>\n",
              "      <td>light</td>\n",
              "      <td>سفید</td>\n",
              "      <td>***********</td>\n",
              "      <td>single-sheet</td>\n",
              "      <td>manual</td>\n",
              "      <td>فروشی</td>\n",
              "      <td>cash</td>\n",
              "      <td>کوییک دنده‌ای، مدل ۱۳۹۹</td>\n",
              "      <td>۱۳۹۹</td>\n",
              "      <td>{'sensor': True}</td>\n",
              "    </tr>\n",
              "    <tr>\n",
              "      <th>freq</th>\n",
              "      <td>1</td>\n",
              "      <td>102</td>\n",
              "      <td>138515</td>\n",
              "      <td>98878</td>\n",
              "      <td>20645</td>\n",
              "      <td>540362</td>\n",
              "      <td>291112</td>\n",
              "      <td>1248</td>\n",
              "      <td>229382</td>\n",
              "      <td>372642</td>\n",
              "      <td>540345</td>\n",
              "      <td>398029</td>\n",
              "      <td>2852</td>\n",
              "      <td>77751</td>\n",
              "      <td>13764</td>\n",
              "    </tr>\n",
              "  </tbody>\n",
              "</table>\n",
              "</div>\n",
              "      <button class=\"colab-df-convert\" onclick=\"convertToInteractive('df-c26170b7-433b-4164-bbcb-f93b838c974c')\"\n",
              "              title=\"Convert this dataframe to an interactive table.\"\n",
              "              style=\"display:none;\">\n",
              "        \n",
              "  <svg xmlns=\"http://www.w3.org/2000/svg\" height=\"24px\"viewBox=\"0 0 24 24\"\n",
              "       width=\"24px\">\n",
              "    <path d=\"M0 0h24v24H0V0z\" fill=\"none\"/>\n",
              "    <path d=\"M18.56 5.44l.94 2.06.94-2.06 2.06-.94-2.06-.94-.94-2.06-.94 2.06-2.06.94zm-11 1L8.5 8.5l.94-2.06 2.06-.94-2.06-.94L8.5 2.5l-.94 2.06-2.06.94zm10 10l.94 2.06.94-2.06 2.06-.94-2.06-.94-.94-2.06-.94 2.06-2.06.94z\"/><path d=\"M17.41 7.96l-1.37-1.37c-.4-.4-.92-.59-1.43-.59-.52 0-1.04.2-1.43.59L10.3 9.45l-7.72 7.72c-.78.78-.78 2.05 0 2.83L4 21.41c.39.39.9.59 1.41.59.51 0 1.02-.2 1.41-.59l7.78-7.78 2.81-2.81c.8-.78.8-2.07 0-2.86zM5.41 20L4 18.59l7.72-7.72 1.47 1.35L5.41 20z\"/>\n",
              "  </svg>\n",
              "      </button>\n",
              "      \n",
              "  <style>\n",
              "    .colab-df-container {\n",
              "      display:flex;\n",
              "      flex-wrap:wrap;\n",
              "      gap: 12px;\n",
              "    }\n",
              "\n",
              "    .colab-df-convert {\n",
              "      background-color: #E8F0FE;\n",
              "      border: none;\n",
              "      border-radius: 50%;\n",
              "      cursor: pointer;\n",
              "      display: none;\n",
              "      fill: #1967D2;\n",
              "      height: 32px;\n",
              "      padding: 0 0 0 0;\n",
              "      width: 32px;\n",
              "    }\n",
              "\n",
              "    .colab-df-convert:hover {\n",
              "      background-color: #E2EBFA;\n",
              "      box-shadow: 0px 1px 2px rgba(60, 64, 67, 0.3), 0px 1px 3px 1px rgba(60, 64, 67, 0.15);\n",
              "      fill: #174EA6;\n",
              "    }\n",
              "\n",
              "    [theme=dark] .colab-df-convert {\n",
              "      background-color: #3B4455;\n",
              "      fill: #D2E3FC;\n",
              "    }\n",
              "\n",
              "    [theme=dark] .colab-df-convert:hover {\n",
              "      background-color: #434B5C;\n",
              "      box-shadow: 0px 1px 3px 1px rgba(0, 0, 0, 0.15);\n",
              "      filter: drop-shadow(0px 1px 2px rgba(0, 0, 0, 0.3));\n",
              "      fill: #FFFFFF;\n",
              "    }\n",
              "  </style>\n",
              "\n",
              "      <script>\n",
              "        const buttonEl =\n",
              "          document.querySelector('#df-c26170b7-433b-4164-bbcb-f93b838c974c button.colab-df-convert');\n",
              "        buttonEl.style.display =\n",
              "          google.colab.kernel.accessAllowed ? 'block' : 'none';\n",
              "\n",
              "        async function convertToInteractive(key) {\n",
              "          const element = document.querySelector('#df-c26170b7-433b-4164-bbcb-f93b838c974c');\n",
              "          const dataTable =\n",
              "            await google.colab.kernel.invokeFunction('convertToInteractive',\n",
              "                                                     [key], {});\n",
              "          if (!dataTable) return;\n",
              "\n",
              "          const docLinkHtml = 'Like what you see? Visit the ' +\n",
              "            '<a target=\"_blank\" href=https://colab.research.google.com/notebooks/data_table.ipynb>data table notebook</a>'\n",
              "            + ' to learn more about interactive tables.';\n",
              "          element.innerHTML = '';\n",
              "          dataTable['output_type'] = 'display_data';\n",
              "          await google.colab.output.renderOutput(dataTable, element);\n",
              "          const docLink = document.createElement('div');\n",
              "          docLink.innerHTML = docLinkHtml;\n",
              "          element.appendChild(docLink);\n",
              "        }\n",
              "      </script>\n",
              "    </div>\n",
              "  </div>\n",
              "  "
            ]
          },
          "metadata": {},
          "execution_count": 24
        }
      ],
      "source": [
        "dffff.describe(include=['O'])"
      ]
    },
    {
      "cell_type": "markdown",
      "source": [
        "This shows that there are ..."
      ],
      "metadata": {
        "id": "oasCe6NxTyTE"
      }
    },
    {
      "cell_type": "code",
      "source": [
        "dffff.isnull().sum()\n"
      ],
      "metadata": {
        "colab": {
          "base_uri": "https://localhost:8080/"
        },
        "id": "hgcPLTs6UeKz",
        "outputId": "9777895e-45da-411c-e26d-1a4bb30a10c1"
      },
      "execution_count": null,
      "outputs": [
        {
          "output_type": "execute_result",
          "data": {
            "text/plain": [
              "post_id                                0\n",
              "post_data                              0\n",
              "review_label                           0\n",
              "reject_reason_id                       0\n",
              "body_status                       112615\n",
              "brand                                 22\n",
              "brand_model                           21\n",
              "category                               0\n",
              "color                              17240\n",
              "description                            0\n",
              "document                          116604\n",
              "gearbox                           112159\n",
              "new_price                         138084\n",
              "post_type                             17\n",
              "selling_type                      119768\n",
              "third_party_insurance_deadline    119429\n",
              "title                                  6\n",
              "usage                                 18\n",
              "year                                  17\n",
              "options                           429065\n",
              "dtype: int64"
            ]
          },
          "metadata": {},
          "execution_count": 25
        }
      ]
    },
    {
      "cell_type": "markdown",
      "source": [
        "There are ... rows with missing ....., ... rows with missing ...... and ... rows with missing Embarked information."
      ],
      "metadata": {
        "id": "67XPa-sUUkBu"
      }
    },
    {
      "cell_type": "markdown",
      "metadata": {
        "id": "lwwAHQP1aHWO"
      },
      "source": [
        "As we see wee have 20 columns with text value and number value.\n",
        "Let's start with 'color' column. In this column we replace unwanted string '\\u200c' with empty space."
      ]
    },
    {
      "cell_type": "code",
      "execution_count": null,
      "metadata": {
        "id": "PzIO4A820tSy"
      },
      "outputs": [],
      "source": [
        "dffff['color'] = dffff['color'].str.replace('\\u200c','')"
      ]
    },
    {
      "cell_type": "code",
      "execution_count": null,
      "metadata": {
        "colab": {
          "base_uri": "https://localhost:8080/"
        },
        "id": "_DoRyDWL3P5O",
        "outputId": "824bce31-a4e0-4fc4-bbfa-c4764a5735b7"
      },
      "outputs": [
        {
          "output_type": "execute_result",
          "data": {
            "text/plain": [
              "0              سفید\n",
              "1              سفید\n",
              "2           خاکستری\n",
              "3         سفید صدفی\n",
              "4              سفید\n",
              "            ...    \n",
              "540357    سفید صدفی\n",
              "540358         سفید\n",
              "540359       نقرهای\n",
              "540360         سفید\n",
              "540361         سفید\n",
              "Name: color, Length: 540362, dtype: object"
            ]
          },
          "metadata": {},
          "execution_count": 27
        }
      ],
      "source": [
        "dffff['color']"
      ]
    },
    {
      "cell_type": "markdown",
      "metadata": {
        "id": "zNPimfvUa4Cm"
      },
      "source": [
        "I replace the text value of column 'color' which are the name of colors to the number value. I do not use OneHotEncoder cause the number of columns are alot and OneHotEncoder makes sparse problem.\n",
        "\n",
        "---\n",
        "\n"
      ]
    },
    {
      "cell_type": "code",
      "execution_count": null,
      "metadata": {
        "id": "ZTjfeZ6A0tZF"
      },
      "outputs": [],
      "source": [
        "dffff['color'].replace(['سفید', 'خاکستری', 'سفید صدفی', 'آبی', 'دلفینی', 'نوکمدادی', 'زرد',\n",
        "       'نقرهای', 'مشکی', 'سرمهای', 'یشمی', 'سبز', 'طوسی', 'عنابی',\n",
        "       'اطلسی', 'نقرآبی', 'بادمجانی', 'قهوهای', 'بنفش', 'قرمز', 'بژ',\n",
        "       'مسی', 'زرشکی', 'نارنجی', 'آلبالویی', 'کرم', 'ذغالی', 'کربنبلک',\n",
        "       'موکا', 'طلایی', 'پوستپیازی', 'زیتونی', 'برنز', 'عدسی', 'سربی',\n",
        "       'خاکی', 'تیتانیوم', 'گیلاسی'],  \n",
        "       [1,2,3,4,5,6,7,8,9,10,11,12,13,14,15,16,17,18,19,20,21,22,23,24,25,26,27,28,29,30,31,32,33,34,35,36,37,38],inplace=True)"
      ]
    },
    {
      "cell_type": "markdown",
      "metadata": {
        "id": "0Qpc2i7qjdXR"
      },
      "source": [
        "Fill nan value with zero."
      ]
    },
    {
      "cell_type": "code",
      "execution_count": null,
      "metadata": {
        "id": "9NTcH5Ig0tdO"
      },
      "outputs": [],
      "source": [
        "dffff[\"color\"]=dffff[\"color\"].fillna(0)"
      ]
    },
    {
      "cell_type": "markdown",
      "metadata": {
        "id": "6xeQSCXtjlEn"
      },
      "source": [
        "At the end change the type of values to integers."
      ]
    },
    {
      "cell_type": "code",
      "execution_count": null,
      "metadata": {
        "id": "6sEMsdEZ0tkO"
      },
      "outputs": [],
      "source": [
        "dffff['color'] = dffff['color'].astype(int)"
      ]
    },
    {
      "cell_type": "markdown",
      "metadata": {
        "id": "AacY5pZKjuSS"
      },
      "source": [
        "The next column which we want to consider is \"selling_type\" column. Let's see what are the values of this column."
      ]
    },
    {
      "cell_type": "code",
      "execution_count": null,
      "metadata": {
        "colab": {
          "base_uri": "https://localhost:8080/"
        },
        "id": "ErsmKv06mKed",
        "outputId": "d4afa986-3ad1-40d0-ab9d-6c523c6442bf"
      },
      "outputs": [
        {
          "output_type": "execute_result",
          "data": {
            "text/plain": [
              "array(['cash', nan, 'cash-instalment', 'instalment'], dtype=object)"
            ]
          },
          "metadata": {},
          "execution_count": 31
        }
      ],
      "source": [
        "dffff['selling_type'].unique()"
      ]
    },
    {
      "cell_type": "markdown",
      "metadata": {
        "id": "bk3Uo17nmT1m"
      },
      "source": [
        "As we see this column has four values, \"cash\", \"cash_instalment\" and \"instalment\" and nan values. For filling the nan values we use value_counts and fill them with the most common value."
      ]
    },
    {
      "cell_type": "code",
      "execution_count": null,
      "metadata": {
        "colab": {
          "base_uri": "https://localhost:8080/"
        },
        "id": "XRiLafIbm25c",
        "outputId": "6408d337-a081-416b-914e-1df675abb3d8"
      },
      "outputs": [
        {
          "output_type": "execute_result",
          "data": {
            "text/plain": [
              "cash               398029\n",
              "cash-instalment     18887\n",
              "instalment           3678\n",
              "Name: selling_type, dtype: int64"
            ]
          },
          "metadata": {},
          "execution_count": 32
        }
      ],
      "source": [
        "dffff['selling_type'].value_counts()"
      ]
    },
    {
      "cell_type": "markdown",
      "metadata": {
        "id": "Y5CZ5_AdnIIb"
      },
      "source": [
        "We replace this text values with numbers and nan value with the number of most prevalent one."
      ]
    },
    {
      "cell_type": "code",
      "execution_count": null,
      "metadata": {
        "id": "1b3Un82Z0tqV"
      },
      "outputs": [],
      "source": [
        "dffff[\"selling_type\"]=dffff[\"selling_type\"].fillna(2)"
      ]
    },
    {
      "cell_type": "code",
      "execution_count": null,
      "metadata": {
        "id": "mNE_Wk-g0tuO"
      },
      "outputs": [],
      "source": [
        "dffff[\"selling_type\"] = dffff[\"selling_type\"].replace({\"cash\": 1,\"cash-instalment\":2,\"instalment\":3})"
      ]
    },
    {
      "cell_type": "code",
      "execution_count": null,
      "metadata": {
        "id": "48dagTuY0tzu"
      },
      "outputs": [],
      "source": [
        "# dffff[dffff['year'] == '۱۳۶۶'].index.values"
      ]
    },
    {
      "cell_type": "code",
      "execution_count": null,
      "metadata": {
        "id": "LVx0SCmx4FTr"
      },
      "outputs": [],
      "source": [
        "# dffff.drop(dffff.index[dffff['year'] == 'قبل از ۱۳۶۶'], inplace = True)"
      ]
    },
    {
      "cell_type": "code",
      "execution_count": null,
      "metadata": {
        "id": "Ai6jVeSo4JDy"
      },
      "outputs": [],
      "source": [
        "# dffff['year'] = dffff['year'].replace({'nan':1360})"
      ]
    },
    {
      "cell_type": "markdown",
      "metadata": {
        "id": "txrcSNYEqrpA"
      },
      "source": [
        "The 'year' column is the next to have a look. If we want to see tha nan index in this column we write the following code.\n"
      ]
    },
    {
      "cell_type": "code",
      "execution_count": null,
      "metadata": {
        "colab": {
          "base_uri": "https://localhost:8080/"
        },
        "id": "jtAgYAm5j1XN",
        "outputId": "ef5fa5ed-61fa-4691-e0c7-c9906acb65fa"
      },
      "outputs": [
        {
          "output_type": "execute_result",
          "data": {
            "text/plain": [
              "array([ 21293,  60334,  96577, 118397, 157487, 213345, 215219, 254769,\n",
              "       279179, 300430, 309038, 329327, 375731, 389015, 461292, 473795,\n",
              "       528513])"
            ]
          },
          "metadata": {},
          "execution_count": 45
        }
      ],
      "source": [
        "dffff[dffff['year'] == 'nan'].index.values"
      ]
    },
    {
      "cell_type": "markdown",
      "metadata": {
        "id": "nPLE3NMUv8fq"
      },
      "source": [
        "Now I replace the value which has both text and number as just the number"
      ]
    },
    {
      "cell_type": "code",
      "execution_count": null,
      "metadata": {
        "id": "ZTR1CGEoikZa"
      },
      "outputs": [],
      "source": [
        "dffff['year'] = dffff['year'].replace({'قبل از ۱۳۶۶':1366})"
      ]
    },
    {
      "cell_type": "markdown",
      "metadata": {
        "id": "MaeNaGtDwsaM"
      },
      "source": [
        "The numbers of column 'color' are in percian format so I replace the one number which is in English format "
      ]
    },
    {
      "cell_type": "code",
      "execution_count": null,
      "metadata": {
        "id": "-DtGpb8titX1"
      },
      "outputs": [],
      "source": [
        "dffff['year'] = dffff['year'].replace({'1366':'۱۳۶۶'})"
      ]
    },
    {
      "cell_type": "code",
      "execution_count": null,
      "metadata": {
        "id": "1iY5Yjr6i0kI"
      },
      "outputs": [],
      "source": [
        "dffff['year']=dffff['year'].map({1366:'۱۳۶۶','۱۳۹۶':'۱۳۹۶','۱۴۰۰':'۱۴۰۰','۱۳۸۶':'۱۳۸۶','۱۳۸۱':'۱۳۸۱','۱۳۸۷':'۱۳۸۷','۱۳۸۴':'۱۳۸۴',\n",
        "                                    '۱۳۹۷': '۱۳۹۷','۱۳۹۰':'۱۳۹۰','۱۳۸۹':'۱۳۸۹','۱۳۸۳':'۱۳۸۳','۱۳۹۵':'۱۳۹۵','۱۳۹۹':'۱۳۹۹','۱۳۹۴':'۱۳۹۴','۱۳۹۸':'۱۳۹۸',\n",
        "                                   '۱۳۹۳':'۱۳۹۳','۱۳۹۲':'۱۳۹۲','۱۳۷۹':'۱۳۷۹','۱۳۹۱':'۱۳۹۱','۱۳۷۶':'۱۳۷۶','۱۳۷۷':'۱۳۷۷','۱۳۷۸':'۱۳۷۸','۱۳۷۱':'۱۳۷۱',\n",
        "                                  '۱۳۸۵':'۱۳۸۵','۱۳۸۲':'۱۳۸۲', '۱۳۸۸':'۱۳۸۸','۱۳۸۰':'۱۳۸۰','۱۳۶۶':'۱۳۶۶','۱۳۷۰':'۱۳۷۰','۱۳۷۵':'۱۳۷۵','۱۳۶۷':'۱۳۶۷',\n",
        "                                 '۱۳۷۳':'۱۳۷۳','۱۳۷۲':'۱۳۷۲', '۱۳۷۴':'۱۳۷۴','۱۳۶۹':'۱۳۶۹','۱۳۶۸':'۱۳۶۸','1360':'۱۳۶۰' ,'nan':'۱۳۶۰'})"
      ]
    },
    {
      "cell_type": "code",
      "execution_count": null,
      "metadata": {
        "id": "7_Xbur9Zi4Mz"
      },
      "outputs": [],
      "source": [
        "dffff['year'] = dffff['year'].replace({1360:'۱۳۶۰'})"
      ]
    },
    {
      "cell_type": "code",
      "execution_count": null,
      "metadata": {
        "id": "6tNYoUVX4L8W"
      },
      "outputs": [],
      "source": [
        "dffff['year']=dffff['year'].apply(str)"
      ]
    },
    {
      "cell_type": "code",
      "execution_count": null,
      "metadata": {
        "id": "AOmJqfxY4PdC"
      },
      "outputs": [],
      "source": [
        "dffff['year'] = dffff['year'].astype(int)"
      ]
    },
    {
      "cell_type": "code",
      "execution_count": null,
      "metadata": {
        "colab": {
          "base_uri": "https://localhost:8080/"
        },
        "id": "rpATyMZXjp8n",
        "outputId": "739f83ce-edd5-4333-aa98-eb7a4e96c957"
      },
      "outputs": [
        {
          "output_type": "execute_result",
          "data": {
            "text/plain": [
              "array([], dtype=int64)"
            ]
          },
          "metadata": {},
          "execution_count": 52
        }
      ],
      "source": [
        "dffff[dffff['year'] == 'nan'].index.values"
      ]
    },
    {
      "cell_type": "code",
      "execution_count": null,
      "metadata": {
        "colab": {
          "base_uri": "https://localhost:8080/"
        },
        "id": "JgB2utTMjLzc",
        "outputId": "511b6660-713f-4a66-c7e8-8bd7a06b9254"
      },
      "outputs": [
        {
          "output_type": "execute_result",
          "data": {
            "text/plain": [
              "array([1397, 1395, 1399, 1392, 1400, 1393, 1380, 1384, 1382, 1379, 1394,\n",
              "       1398, 1381, 1390, 1386, 1387, 1383, 1388, 1391, 1396, 1385, 1389,\n",
              "       1377, 1366, 1372, 1376, 1378, 1367, 1375, 1373, 1371, 1368, 1369,\n",
              "       1370, 1374, 1360])"
            ]
          },
          "metadata": {},
          "execution_count": 53
        }
      ],
      "source": [
        "dffff['year'].unique()"
      ]
    },
    {
      "cell_type": "code",
      "execution_count": null,
      "metadata": {
        "colab": {
          "base_uri": "https://localhost:8080/"
        },
        "id": "p6jzz7XdjSW1",
        "outputId": "cf49dd4c-e30e-4ce8-a9d1-e7971c4b952e"
      },
      "outputs": [
        {
          "output_type": "execute_result",
          "data": {
            "text/plain": [
              "(540362, 20)"
            ]
          },
          "metadata": {},
          "execution_count": 54
        }
      ],
      "source": [
        "dffff.shape"
      ]
    },
    {
      "cell_type": "markdown",
      "metadata": {
        "id": "s0sDBuvpxqES"
      },
      "source": [
        "About column \"third_party_insurance_deadline\" first we check the unique values of this column and then fill the null values."
      ]
    },
    {
      "cell_type": "code",
      "execution_count": null,
      "metadata": {
        "colab": {
          "base_uri": "https://localhost:8080/"
        },
        "id": "9LN0RvUXxqWJ",
        "outputId": "e0406eab-45cc-4a6b-ad51-598bcb8c5667"
      },
      "outputs": [
        {
          "output_type": "execute_result",
          "data": {
            "text/plain": [
              "array([ 5.,  1.,  8., nan,  7., 12.,  4., 11.,  9., 10.,  2.,  6.,  3.])"
            ]
          },
          "metadata": {},
          "execution_count": 55
        }
      ],
      "source": [
        "dffff[\"third_party_insurance_deadline\"].unique()"
      ]
    },
    {
      "cell_type": "code",
      "execution_count": null,
      "metadata": {
        "id": "4NpSUuVB4U6D"
      },
      "outputs": [],
      "source": [
        "dffff[\"third_party_insurance_deadline\"]=dffff[\"third_party_insurance_deadline\"].fillna(0)"
      ]
    },
    {
      "cell_type": "code",
      "execution_count": null,
      "metadata": {
        "id": "TPbcNWCZ4viZ"
      },
      "outputs": [],
      "source": [
        "dffff['third_party_insurance_deadline'] = dffff['third_party_insurance_deadline'].astype(int)"
      ]
    },
    {
      "cell_type": "markdown",
      "metadata": {
        "id": "DyJR1ANDzkJ7"
      },
      "source": [
        "I replace the text value of column 'brand' which are the name of brands to the number value. I do not use OneHotEncoder cause the number of columns are alot and OneHotEncoder makes sparse problem."
      ]
    },
    {
      "cell_type": "code",
      "execution_count": null,
      "metadata": {
        "id": "gywtql6V4ylY"
      },
      "outputs": [],
      "source": [
        "dffff[\"brand\"] = dffff[\"brand\"].replace({'تیبا::Tiba': 1})"
      ]
    },
    {
      "cell_type": "code",
      "execution_count": null,
      "metadata": {
        "id": "QmSk3rjQ415o"
      },
      "outputs": [],
      "source": [
        "dffff[\"brand\"] = dffff[\"brand\"].replace({'لیفان::Lifan': 2, 'پژو ۴۰۵::Peugeot 405':3, \n",
        "'پژو ۲۰۶\\u200d صندوق\\u200cدار::Peugeot 206':4, 'نیسان::Nissan':5, 'پژو ۲۰۷::Peugeot 207':6, 'پژو پارس::Peugeot Pars':7, \n",
        " 'پراید هاچ\\u200cبک::Pride':8,  'پیکان::Peykan':9, 'پژو ۲۰۶\\u200d::Peugeot 206':10,  'پراید صندوق\\u200cدار::Pride':11, 'ام\\u200cوی\\u200cام::MVM':12,\n",
        "  'زانتیا::Citroen Xantia':13, 'مزدا::Mazda':14,  'کیا::Kia':15, 'رنو::Renault':16, 'سمند::Samand':17, 'تندر ۹۰::Tondar 90':18,\n",
        "   'تویوتا::Toyota':19,  'هیوندای (غیره)::Hyundai':20, 'رانا::Runna':21, 'هیوندای آزرا::Hyundai Azera':22, 'بی\\u200cام\\u200cو::BMW':23,\n",
        "    'هیوندای سوناتا::Hyundai Sonata':24,  'بنز::Mercedes-Benz':25, 'دوو::Daewoo':26,\n",
        "                                      'گل::Gol' :27, 'پژو روآ / آر\\u200cدی::RD/ROA':28})"
      ]
    },
    {
      "cell_type": "code",
      "execution_count": null,
      "metadata": {
        "id": "_OcahFsW44-9"
      },
      "outputs": [],
      "source": [
        "dffff[\"brand\"] = dffff[\"brand\"].replace(to_replace =\"وانت\",\n",
        "                 value =29)"
      ]
    },
    {
      "cell_type": "code",
      "execution_count": null,
      "metadata": {
        "id": "CZwkTOTL477v"
      },
      "outputs": [],
      "source": [
        "dffff[\"brand\"] = dffff[\"brand\"].replace(to_replace =\"سایر\",\n",
        "                 value =30)"
      ]
    },
    {
      "cell_type": "code",
      "execution_count": null,
      "metadata": {
        "id": "OH8HG-Ps4-ne"
      },
      "outputs": [],
      "source": [
        "dffff[\"brand\"]=dffff[\"brand\"].fillna(0)"
      ]
    },
    {
      "cell_type": "code",
      "execution_count": null,
      "metadata": {
        "id": "Z6qlWapR5B5b"
      },
      "outputs": [],
      "source": [
        "dffff['brand'] = dffff['brand'].astype(int)"
      ]
    },
    {
      "cell_type": "markdown",
      "metadata": {
        "id": "nTM-s9Aez3sq"
      },
      "source": [
        "The same thing happen to \"body_status\" column."
      ]
    },
    {
      "cell_type": "code",
      "execution_count": null,
      "metadata": {
        "id": "Pf-qd3_M5FJY"
      },
      "outputs": [],
      "source": [
        "dffff[\"body_status\"] = dffff[\"body_status\"].replace({'witout-color': 1, 'intact':2, 'few-spots-of-color':3,  'multiple-spots-paint':4, \n",
        "                                                  'half-paint' :5, 'two-spots-of-color':6, 'one-spot-paint':7, 'two-spots-paint':8, 'some-scratches':9,\n",
        "                                                    'full-paint':10, 'one-spot-of-color':11,  'by-accident':12, 'out':13,'paintless-dent-removal':14,\n",
        "                                              'accidental'     :15, 'junk':16})"
      ]
    },
    {
      "cell_type": "code",
      "execution_count": null,
      "metadata": {
        "id": "TFI0pT5x5N6h"
      },
      "outputs": [],
      "source": [
        "dffff[\"body_status\"]=dffff[\"body_status\"].fillna(0)"
      ]
    },
    {
      "cell_type": "code",
      "execution_count": null,
      "metadata": {
        "id": "IxCxJ9rJ5Q6V"
      },
      "outputs": [],
      "source": [
        "dffff['body_status'] = dffff['body_status'].astype(int)"
      ]
    },
    {
      "cell_type": "code",
      "source": [
        "dffff.head(3)"
      ],
      "metadata": {
        "colab": {
          "base_uri": "https://localhost:8080/",
          "height": 398
        },
        "id": "0cV3Puj8ugyV",
        "outputId": "b9e5cc07-3beb-4c94-d31a-b78a28fa3ea1"
      },
      "execution_count": null,
      "outputs": [
        {
          "output_type": "execute_result",
          "data": {
            "text/plain": [
              "                                post_id  \\\n",
              "0  cb000599-2ee2-42c1-9f0e-32cfeb940398   \n",
              "1  12063741-6634-444b-befa-0be4c95c2b42   \n",
              "2  81c93119-5c06-412f-80aa-363ddb0ebc33   \n",
              "\n",
              "                                           post_data  review_label  \\\n",
              "0  {\"body_status\": \"witout-color\", \"brand\": \"\\u06...             1   \n",
              "1  {\"body_status\": \"witout-color\", \"brand\": \"\\u06...             0   \n",
              "2  {\"body_status\": \"witout-color\", \"brand\": \"\\u06...             1   \n",
              "\n",
              "   reject_reason_id  body_status  brand       brand_model category  color  \\\n",
              "0                 0            1      1     Tiba Sedan SX    light      1   \n",
              "1                13            1      2  Lifan X60 manual    light      1   \n",
              "2                 0            1      3   Peugeot 405 SLX    light      2   \n",
              "\n",
              "                                         description      document gearbox  \\\n",
              "0                                 بدون رنگ،کم کارکرد  single-sheet  manual   \n",
              "1  اسفند 95\\nبیمه بدنه کلا تخفیف \\nمانیتور 10 این...  single-sheet  manual   \n",
              "2  بیمه شخص ثالث،بیمه بدنه،دارای روکش صندلی و کفی...  single-sheet  manual   \n",
              "\n",
              "     new_price post_type  selling_type  third_party_insurance_deadline  \\\n",
              "0  103000000.0     فروشی             1                               5   \n",
              "1   26700000.0     فروشی             1                               1   \n",
              "2  190000000.0     فروشی             1                               8   \n",
              "\n",
              "                          title     usage  year  \\\n",
              "0   تیبا صندوق‌دار SX، مدل ۱۳۹۷   23000.0  1397   \n",
              "1   لیفان X60 دنده‌ای، مدل ۱۳۹۵  120000.0  1395   \n",
              "2  پژو 405 SLX بنزینی، مدل ۱۳۹۹    1400.0  1399   \n",
              "\n",
              "                             options  \n",
              "0                                NaN  \n",
              "1                                NaN  \n",
              "2  {'electric_folding_mirror': True}  "
            ],
            "text/html": [
              "\n",
              "  <div id=\"df-5e41c749-e747-4dc2-8142-782224eab3c5\">\n",
              "    <div class=\"colab-df-container\">\n",
              "      <div>\n",
              "<style scoped>\n",
              "    .dataframe tbody tr th:only-of-type {\n",
              "        vertical-align: middle;\n",
              "    }\n",
              "\n",
              "    .dataframe tbody tr th {\n",
              "        vertical-align: top;\n",
              "    }\n",
              "\n",
              "    .dataframe thead th {\n",
              "        text-align: right;\n",
              "    }\n",
              "</style>\n",
              "<table border=\"1\" class=\"dataframe\">\n",
              "  <thead>\n",
              "    <tr style=\"text-align: right;\">\n",
              "      <th></th>\n",
              "      <th>post_id</th>\n",
              "      <th>post_data</th>\n",
              "      <th>review_label</th>\n",
              "      <th>reject_reason_id</th>\n",
              "      <th>body_status</th>\n",
              "      <th>brand</th>\n",
              "      <th>brand_model</th>\n",
              "      <th>category</th>\n",
              "      <th>color</th>\n",
              "      <th>description</th>\n",
              "      <th>document</th>\n",
              "      <th>gearbox</th>\n",
              "      <th>new_price</th>\n",
              "      <th>post_type</th>\n",
              "      <th>selling_type</th>\n",
              "      <th>third_party_insurance_deadline</th>\n",
              "      <th>title</th>\n",
              "      <th>usage</th>\n",
              "      <th>year</th>\n",
              "      <th>options</th>\n",
              "    </tr>\n",
              "  </thead>\n",
              "  <tbody>\n",
              "    <tr>\n",
              "      <th>0</th>\n",
              "      <td>cb000599-2ee2-42c1-9f0e-32cfeb940398</td>\n",
              "      <td>{\"body_status\": \"witout-color\", \"brand\": \"\\u06...</td>\n",
              "      <td>1</td>\n",
              "      <td>0</td>\n",
              "      <td>1</td>\n",
              "      <td>1</td>\n",
              "      <td>Tiba Sedan SX</td>\n",
              "      <td>light</td>\n",
              "      <td>1</td>\n",
              "      <td>بدون رنگ،کم کارکرد</td>\n",
              "      <td>single-sheet</td>\n",
              "      <td>manual</td>\n",
              "      <td>103000000.0</td>\n",
              "      <td>فروشی</td>\n",
              "      <td>1</td>\n",
              "      <td>5</td>\n",
              "      <td>تیبا صندوق‌دار SX، مدل ۱۳۹۷</td>\n",
              "      <td>23000.0</td>\n",
              "      <td>1397</td>\n",
              "      <td>NaN</td>\n",
              "    </tr>\n",
              "    <tr>\n",
              "      <th>1</th>\n",
              "      <td>12063741-6634-444b-befa-0be4c95c2b42</td>\n",
              "      <td>{\"body_status\": \"witout-color\", \"brand\": \"\\u06...</td>\n",
              "      <td>0</td>\n",
              "      <td>13</td>\n",
              "      <td>1</td>\n",
              "      <td>2</td>\n",
              "      <td>Lifan X60 manual</td>\n",
              "      <td>light</td>\n",
              "      <td>1</td>\n",
              "      <td>اسفند 95\\nبیمه بدنه کلا تخفیف \\nمانیتور 10 این...</td>\n",
              "      <td>single-sheet</td>\n",
              "      <td>manual</td>\n",
              "      <td>26700000.0</td>\n",
              "      <td>فروشی</td>\n",
              "      <td>1</td>\n",
              "      <td>1</td>\n",
              "      <td>لیفان X60 دنده‌ای، مدل ۱۳۹۵</td>\n",
              "      <td>120000.0</td>\n",
              "      <td>1395</td>\n",
              "      <td>NaN</td>\n",
              "    </tr>\n",
              "    <tr>\n",
              "      <th>2</th>\n",
              "      <td>81c93119-5c06-412f-80aa-363ddb0ebc33</td>\n",
              "      <td>{\"body_status\": \"witout-color\", \"brand\": \"\\u06...</td>\n",
              "      <td>1</td>\n",
              "      <td>0</td>\n",
              "      <td>1</td>\n",
              "      <td>3</td>\n",
              "      <td>Peugeot 405 SLX</td>\n",
              "      <td>light</td>\n",
              "      <td>2</td>\n",
              "      <td>بیمه شخص ثالث،بیمه بدنه،دارای روکش صندلی و کفی...</td>\n",
              "      <td>single-sheet</td>\n",
              "      <td>manual</td>\n",
              "      <td>190000000.0</td>\n",
              "      <td>فروشی</td>\n",
              "      <td>1</td>\n",
              "      <td>8</td>\n",
              "      <td>پژو 405 SLX بنزینی، مدل ۱۳۹۹</td>\n",
              "      <td>1400.0</td>\n",
              "      <td>1399</td>\n",
              "      <td>{'electric_folding_mirror': True}</td>\n",
              "    </tr>\n",
              "  </tbody>\n",
              "</table>\n",
              "</div>\n",
              "      <button class=\"colab-df-convert\" onclick=\"convertToInteractive('df-5e41c749-e747-4dc2-8142-782224eab3c5')\"\n",
              "              title=\"Convert this dataframe to an interactive table.\"\n",
              "              style=\"display:none;\">\n",
              "        \n",
              "  <svg xmlns=\"http://www.w3.org/2000/svg\" height=\"24px\"viewBox=\"0 0 24 24\"\n",
              "       width=\"24px\">\n",
              "    <path d=\"M0 0h24v24H0V0z\" fill=\"none\"/>\n",
              "    <path d=\"M18.56 5.44l.94 2.06.94-2.06 2.06-.94-2.06-.94-.94-2.06-.94 2.06-2.06.94zm-11 1L8.5 8.5l.94-2.06 2.06-.94-2.06-.94L8.5 2.5l-.94 2.06-2.06.94zm10 10l.94 2.06.94-2.06 2.06-.94-2.06-.94-.94-2.06-.94 2.06-2.06.94z\"/><path d=\"M17.41 7.96l-1.37-1.37c-.4-.4-.92-.59-1.43-.59-.52 0-1.04.2-1.43.59L10.3 9.45l-7.72 7.72c-.78.78-.78 2.05 0 2.83L4 21.41c.39.39.9.59 1.41.59.51 0 1.02-.2 1.41-.59l7.78-7.78 2.81-2.81c.8-.78.8-2.07 0-2.86zM5.41 20L4 18.59l7.72-7.72 1.47 1.35L5.41 20z\"/>\n",
              "  </svg>\n",
              "      </button>\n",
              "      \n",
              "  <style>\n",
              "    .colab-df-container {\n",
              "      display:flex;\n",
              "      flex-wrap:wrap;\n",
              "      gap: 12px;\n",
              "    }\n",
              "\n",
              "    .colab-df-convert {\n",
              "      background-color: #E8F0FE;\n",
              "      border: none;\n",
              "      border-radius: 50%;\n",
              "      cursor: pointer;\n",
              "      display: none;\n",
              "      fill: #1967D2;\n",
              "      height: 32px;\n",
              "      padding: 0 0 0 0;\n",
              "      width: 32px;\n",
              "    }\n",
              "\n",
              "    .colab-df-convert:hover {\n",
              "      background-color: #E2EBFA;\n",
              "      box-shadow: 0px 1px 2px rgba(60, 64, 67, 0.3), 0px 1px 3px 1px rgba(60, 64, 67, 0.15);\n",
              "      fill: #174EA6;\n",
              "    }\n",
              "\n",
              "    [theme=dark] .colab-df-convert {\n",
              "      background-color: #3B4455;\n",
              "      fill: #D2E3FC;\n",
              "    }\n",
              "\n",
              "    [theme=dark] .colab-df-convert:hover {\n",
              "      background-color: #434B5C;\n",
              "      box-shadow: 0px 1px 3px 1px rgba(0, 0, 0, 0.15);\n",
              "      filter: drop-shadow(0px 1px 2px rgba(0, 0, 0, 0.3));\n",
              "      fill: #FFFFFF;\n",
              "    }\n",
              "  </style>\n",
              "\n",
              "      <script>\n",
              "        const buttonEl =\n",
              "          document.querySelector('#df-5e41c749-e747-4dc2-8142-782224eab3c5 button.colab-df-convert');\n",
              "        buttonEl.style.display =\n",
              "          google.colab.kernel.accessAllowed ? 'block' : 'none';\n",
              "\n",
              "        async function convertToInteractive(key) {\n",
              "          const element = document.querySelector('#df-5e41c749-e747-4dc2-8142-782224eab3c5');\n",
              "          const dataTable =\n",
              "            await google.colab.kernel.invokeFunction('convertToInteractive',\n",
              "                                                     [key], {});\n",
              "          if (!dataTable) return;\n",
              "\n",
              "          const docLinkHtml = 'Like what you see? Visit the ' +\n",
              "            '<a target=\"_blank\" href=https://colab.research.google.com/notebooks/data_table.ipynb>data table notebook</a>'\n",
              "            + ' to learn more about interactive tables.';\n",
              "          element.innerHTML = '';\n",
              "          dataTable['output_type'] = 'display_data';\n",
              "          await google.colab.output.renderOutput(dataTable, element);\n",
              "          const docLink = document.createElement('div');\n",
              "          docLink.innerHTML = docLinkHtml;\n",
              "          element.appendChild(docLink);\n",
              "        }\n",
              "      </script>\n",
              "    </div>\n",
              "  </div>\n",
              "  "
            ]
          },
          "metadata": {},
          "execution_count": 67
        }
      ]
    },
    {
      "cell_type": "code",
      "source": [
        "dffff[\"gearbox\"].unique()"
      ],
      "metadata": {
        "colab": {
          "base_uri": "https://localhost:8080/"
        },
        "id": "-PZ1fY_5vDS-",
        "outputId": "86a80ed1-38a5-4edc-add3-2bb724fc3f42"
      },
      "execution_count": null,
      "outputs": [
        {
          "output_type": "execute_result",
          "data": {
            "text/plain": [
              "array(['manual', nan, 'automatic'], dtype=object)"
            ]
          },
          "metadata": {},
          "execution_count": 68
        }
      ]
    },
    {
      "cell_type": "code",
      "source": [
        "dffff[\"gearbox\"].value_counts()"
      ],
      "metadata": {
        "colab": {
          "base_uri": "https://localhost:8080/"
        },
        "id": "4sUA2ytVvL9M",
        "outputId": "2972c81d-7dc3-4cc4-8051-97bb7d24e65e"
      },
      "execution_count": null,
      "outputs": [
        {
          "output_type": "execute_result",
          "data": {
            "text/plain": [
              "manual       372642\n",
              "automatic     55561\n",
              "Name: gearbox, dtype: int64"
            ]
          },
          "metadata": {},
          "execution_count": 69
        }
      ]
    },
    {
      "cell_type": "code",
      "execution_count": null,
      "metadata": {
        "id": "o4N8AFYL5YpU"
      },
      "outputs": [],
      "source": [
        "dffff[\"gearbox\"] = dffff[\"gearbox\"].replace({\"automatic\": 0,\"manual\":1})"
      ]
    },
    {
      "cell_type": "code",
      "execution_count": null,
      "metadata": {
        "id": "znD33_wz5WXE"
      },
      "outputs": [],
      "source": [
        "dffff[\"gearbox\"]=dffff[\"gearbox\"].fillna(0)"
      ]
    },
    {
      "cell_type": "code",
      "source": [
        "dffff.gearbox = dffff.gearbox.astype('int')\n",
        "sns.countplot(dffff.gearbox)"
      ],
      "metadata": {
        "colab": {
          "base_uri": "https://localhost:8080/",
          "height": 302
        },
        "id": "HSc6elahvfQ2",
        "outputId": "df9d58bf-c394-4faa-8921-4275c904ce53"
      },
      "execution_count": null,
      "outputs": [
        {
          "output_type": "execute_result",
          "data": {
            "text/plain": [
              "<matplotlib.axes._subplots.AxesSubplot at 0x7fd4b8578890>"
            ]
          },
          "metadata": {},
          "execution_count": 72
        },
        {
          "output_type": "display_data",
          "data": {
            "text/plain": [
              "<Figure size 432x288 with 1 Axes>"
            ],
            "image/png": "[encoded data removed]"
          },
          "metadata": {
            "needs_background": "light"
          }
        }
      ]
    },
    {
      "cell_type": "code",
      "execution_count": null,
      "metadata": {
        "id": "CDjtu6xO5eis"
      },
      "outputs": [],
      "source": [
        "import re # for regex\n",
        "def clean(text):\n",
        "    cleaned = re.compile(r'\\n')\n",
        "    return re.sub(cleaned,'',text)\n",
        "\n",
        "dffff.description = dffff.description.apply(clean)"
      ]
    },
    {
      "cell_type": "code",
      "execution_count": null,
      "metadata": {
        "id": "0MmTlVSz5p3H"
      },
      "outputs": [],
      "source": [
        "def is_special(text):\n",
        "    rem = ''\n",
        "    for i in text:\n",
        "        if i.isalnum():\n",
        "            rem = rem + i\n",
        "        else:\n",
        "            rem = rem + ' '\n",
        "    return rem\n",
        "\n",
        "dffff.description = dffff.description.apply(is_special)"
      ]
    },
    {
      "cell_type": "code",
      "execution_count": null,
      "metadata": {
        "id": "HwI1cR3i5sq9"
      },
      "outputs": [],
      "source": [
        "import re # for regex\n",
        "def clean5(text):\n",
        "    cleaned = re.compile(r'\\\\u')\n",
        "    return re.sub(cleaned,'',text)\n",
        "\n",
        "dffff.description = dffff.description.apply(clean5)"
      ]
    },
    {
      "cell_type": "code",
      "execution_count": null,
      "metadata": {
        "id": "g2WoDANO5yfv"
      },
      "outputs": [],
      "source": [
        "dffff['text'] = dffff['title'] + \" \"+ dffff['description']"
      ]
    },
    {
      "cell_type": "code",
      "execution_count": null,
      "metadata": {
        "id": "XUnsSfJa52Uk"
      },
      "outputs": [],
      "source": [
        "def set_types(df):\n",
        "    df.title = df.title.astype(str)\n",
        "    df.description = df.description.astype(str)\n",
        "    return df"
      ]
    },
    {
      "cell_type": "code",
      "execution_count": null,
      "metadata": {
        "id": "_qQHYjXM6LRv"
      },
      "outputs": [],
      "source": [
        "dffff=set_types(dffff)"
      ]
    },
    {
      "cell_type": "code",
      "execution_count": null,
      "metadata": {
        "id": "SEdANb9V6Nsu"
      },
      "outputs": [],
      "source": [
        "def replace_nan(entry):\n",
        "    if entry == 'nan':\n",
        "        return '#'\n",
        "    return entry\n",
        "dffff.title = dffff.title.apply(replace_nan)\n",
        "dffff.description = dffff.description.apply(replace_nan)"
      ]
    },
    {
      "cell_type": "code",
      "execution_count": null,
      "metadata": {
        "id": "S_XX80Y36Rbk"
      },
      "outputs": [],
      "source": [
        "# dffff.drop_duplicates(subset =['description', 'title'], inplace = True)\n"
      ]
    },
    {
      "cell_type": "code",
      "execution_count": null,
      "metadata": {
        "id": "TUZF8uuJ6dqy"
      },
      "outputs": [],
      "source": [
        "lemma = InformalLemmatizer()\n",
        "\n",
        "# Reference : https://gist.github.com/slowkow/7a7f61f495e3dbb7e3d767f97bd7304b\n",
        "def remove_emoji(string):\n",
        "    emoji_pattern = re.compile(\"[\"\n",
        "                           u\"\\U0001F600-\\U0001F64F\"  # emoticons\n",
        "                           u\"\\U0001F300-\\U0001F5FF\"  # symbols & pictographs\n",
        "                           u\"\\U0001F680-\\U0001F6FF\"  # transport & map symbols\n",
        "                           u\"\\U0001F1E0-\\U0001F1FF\"  # flags (iOS)\n",
        "                           u\"\\U00002702-\\U000027B0\"\n",
        "                           u\"\\U000024C2-\\U0001F251\"\n",
        "                           \"]+\", flags=re.UNICODE)\n",
        "    return emoji_pattern.sub(r'', string)\n",
        "\n",
        "# https://github.com/NeelShah18/emot/blob/master/emot/emo_unicode.py  emoticons list\n",
        "# https://github.com/rishabhverma17/sms_slang_translator/blob/master/slang.txt Chat shortcuts\n",
        "\n",
        "def remove_urls(text):\n",
        "    url_pattern = re.compile(r'https?://\\S+|www\\.\\S+')\n",
        "    return url_pattern.sub(r' ', text)\n",
        "\n",
        "def remove_punctuations(text):\n",
        "    punctuations = re.compile(r'[~`!@#$%^&*(,<،>){}\\\\/|\\'\"?؟_+-=~\\[\\]]')\n",
        "    return punctuations.sub(r' ', text)\n",
        "\n",
        "def remove_html(text):\n",
        "    html_pattern = re.compile('<.*?>')\n",
        "    return html_pattern.sub(r' ', text)\n",
        "\n",
        "def remove_weird_chars(text):\n",
        "    weridPatterns = re.compile(\"[\"\n",
        "                               u\"\\U0001F600-\\U0001F64F\"  # emoticons\n",
        "                               u\"\\U0001F300-\\U0001F5FF\"  # symbols & pictographs\n",
        "                               u\"\\U0001F680-\\U0001F6FF\"  # transport & map symbols\n",
        "                               u\"\\U0001F1E0-\\U0001F1FF\"  # flags (iOS)\n",
        "                               u\"\\U00002702-\\U000027B0\"\n",
        "                               u\"\\U000024C2-\\U0001F251\"\n",
        "                               u\"\\U0001f926-\\U0001f937\"\n",
        "                               u'\\U00010000-\\U0010ffff'\n",
        "                               u\"\\u200d\"\n",
        "                               u\"\\u2640-\\u2642\"\n",
        "                               u\"\\u2600-\\u2B55\"\n",
        "                               u\"\\u23cf\"\n",
        "                               u\"\\u23e9\"\n",
        "                               u\"\\u231a\"\n",
        "                               u\"\\u3030\"\n",
        "                               u\"\\ufe0f\"\n",
        "                               u\"\\u2069\"\n",
        "                               u\"\\u2066\"\n",
        "                               u\"\\u200c\"\n",
        "                               u\"\\u2068\"\n",
        "                               u\"\\u2067\"\n",
        "                               \"]+\", flags=re.UNICODE)\n",
        "    patterns = [re.compile('\\r'), re.compile('\\n'), re.compile('&amp;')]\n",
        "    text = weridPatterns.sub(r'', text)\n",
        "    for p in patterns:\n",
        "        text = p.sub(r' ', text)\n",
        "    return text\n",
        "\n",
        "def remove_extra_repeated_alpha(text):\n",
        "    \"\"\"\n",
        "    Remove extra repeated alphabets in a word\n",
        "    check these links:\n",
        "    demo : https://regex101.com/r/ALxocA/1\n",
        "    Question: https://bit.ly/2DoiPqS\n",
        "    \"\"\"\n",
        "    return re.sub(r'([^\\W\\d_])\\1{2,}', r'\\1', text)\n",
        "\n",
        "\n",
        "def clean_up(text, url=True, html=True, weird_patterns=True , lemmatize=False, \n",
        "               stopwords=True, isalpha=False, punctuations=True, remove_extra_alpha=True):\n",
        "    # remove url\n",
        "    if url:\n",
        "        text = remove_urls(text)\n",
        "    # remove html tags\n",
        "    if html:\n",
        "        text = remove_html(text)\n",
        "    # remove emokis / symbols & pictographs / transport & map symbols / flags (iOS)\n",
        "    if weird_patterns:\n",
        "        text = remove_weird_chars(text)\n",
        "    # remove punctuations\n",
        "    if punctuations:\n",
        "        text = remove_punctuations(text)\n",
        "    # Alter words with repeated alphabets\n",
        "    if remove_extra_repeated_alpha:\n",
        "        text = remove_extra_repeated_alpha(text)\n",
        "    # tokenize text\n",
        "    tokens = word_tokenize(text)\n",
        "    # remove stop words\n",
        "    if stopwords:\n",
        "        tokens = [word for word in tokens if word not in stopwords_list()]\n",
        "    # remove non-alphabetic items\n",
        "    if isalpha:\n",
        "        tokens = [word for word in tokens if word.isalpha()]\n",
        "    # lemmatize words\n",
        "    if lemmatize:\n",
        "        tokens = [lemma.lemmatize(word) for word in tokens]\n",
        "    text = ' '.join(tokens)\n",
        "    \n",
        "    return text"
      ]
    },
    {
      "cell_type": "code",
      "execution_count": null,
      "metadata": {
        "id": "aaogAYK76oNB"
      },
      "outputs": [],
      "source": [
        "dffff = set_types(dffff)\n",
        "dffff.text = dffff.text.apply(str)"
      ]
    },
    {
      "cell_type": "code",
      "execution_count": null,
      "metadata": {
        "id": "J7at_e_u6wu_"
      },
      "outputs": [],
      "source": [
        "all_words_title = ' '.join([text for text in dffff.title])\n",
        "all_words = arabic_reshaper.reshape(all_words_title)"
      ]
    },
    {
      "cell_type": "markdown",
      "source": [
        "Since the dataset is not too large, we can easily compute the standard correlation coefficient (also called Pearson’s r) between every pair of attributes using the corr() method\n",
        "Now let’s look at how much each attribute correlates with the median house value:"
      ],
      "metadata": {
        "id": "JVVIP3Cb6bG_"
      }
    },
    {
      "cell_type": "code",
      "execution_count": null,
      "metadata": {
        "colab": {
          "base_uri": "https://localhost:8080/"
        },
        "id": "Ar0EGLf7zBos",
        "outputId": "60cacc90-53af-4464-d002-797dc89e27c5"
      },
      "outputs": [
        {
          "output_type": "execute_result",
          "data": {
            "text/plain": [
              "review_label                      1.000000\n",
              "usage                             0.128099\n",
              "gearbox                           0.100844\n",
              "body_status                       0.095750\n",
              "third_party_insurance_deadline    0.092756\n",
              "color                             0.020572\n",
              "year                             -0.035029\n",
              "new_price                        -0.052211\n",
              "brand                            -0.097471\n",
              "selling_type                     -0.155422\n",
              "reject_reason_id                 -0.768684\n",
              "Name: review_label, dtype: float64"
            ]
          },
          "metadata": {},
          "execution_count": 83
        }
      ],
      "source": [
        "corr_matrix=dffff.corr()\n",
        "corr_matrix['review_label'].sort_values(ascending=False)"
      ]
    },
    {
      "cell_type": "markdown",
      "source": [
        "The correlation coefficient ranges from –1 to 1. When it is close to 1, it means that there is a strong positive correlation; for example, the median reviewlabel tends to go up when the usage goes up. When the coefficient is close to –1, it means that there is a strong negative correlation; you can see a small negative correlation review_label between the reject_reason_id and the review_label. Finally, coefficients close to 0 mean that there is no\n",
        "linear correlation."
      ],
      "metadata": {
        "id": "HyQ1ZMTy66sQ"
      }
    },
    {
      "cell_type": "markdown",
      "source": [
        "Correlating Features\n",
        "Heatmap of Correlation between different features:\n",
        "\n",
        "Positive numbers = Positive correlation, i.e. increase in one feature will increase the other feature & vice-versa.\n",
        "\n",
        "Negative numbers = Negative correlation, i.e. increase in one feature will decrease the other feature & vice-versa.\n",
        "\n",
        "In our case, we focus on which features have strong positive or negative correlation with the Survived feature."
      ],
      "metadata": {
        "id": "HTMU0_2QZHsC"
      }
    },
    {
      "cell_type": "code",
      "source": [
        "plt.figure(figsize=(15,6))\n",
        "sns.heatmap(dffff.drop('post_id',axis=1).corr(), vmax=0.6, square=True, annot=True)"
      ],
      "metadata": {
        "colab": {
          "base_uri": "https://localhost:8080/",
          "height": 561
        },
        "id": "VCqNBm4QY6R7",
        "outputId": "94e6023d-d34e-489c-d985-645fb04c3da5"
      },
      "execution_count": null,
      "outputs": [
        {
          "output_type": "execute_result",
          "data": {
            "text/plain": [
              "<matplotlib.axes._subplots.AxesSubplot at 0x7fd4b94154d0>"
            ]
          },
          "metadata": {},
          "execution_count": 84
        },
        {
          "output_type": "display_data",
          "data": {
            "text/plain": [
              "<Figure size 1080x432 with 2 Axes>"
            ],
            "image/png": "[encoded data removed]"
          },
          "metadata": {
            "needs_background": "light"
          }
        }
      ]
    },
    {
      "cell_type": "markdown",
      "source": [
        "We delete some columns which I think are not important."
      ],
      "metadata": {
        "id": "Xnp0neJm8-nD"
      }
    },
    {
      "cell_type": "markdown",
      "source": [
        "# Feature Extraction\n",
        "In this section, we select the appropriate features to train our classifier. Here, we create new features based on existing features. We also convert categorical features into numeric form."
      ],
      "metadata": {
        "id": "B12iro0gZkj8"
      }
    },
    {
      "cell_type": "code",
      "source": [
        ""
      ],
      "metadata": {
        "id": "3IZTzUWAZxte"
      },
      "execution_count": null,
      "outputs": []
    },
    {
      "cell_type": "code",
      "source": [
        ""
      ],
      "metadata": {
        "id": "ipLEf4c4Zx1e"
      },
      "execution_count": null,
      "outputs": []
    },
    {
      "cell_type": "code",
      "execution_count": null,
      "metadata": {
        "id": "JgyxH_ch5bXP"
      },
      "outputs": [],
      "source": [
        "dffff=dffff.drop(\"brand_model\",axis=1)"
      ]
    },
    {
      "cell_type": "code",
      "execution_count": null,
      "metadata": {
        "id": "CHUP7XEW5Txz"
      },
      "outputs": [],
      "source": [
        "dffff=dffff.drop([\"post_data\",\"post_type\",\"category\",\"document\",\"usage\"],axis=1)"
      ]
    },
    {
      "cell_type": "code",
      "execution_count": null,
      "metadata": {
        "id": "Z9rz6MrW6zTv"
      },
      "outputs": [],
      "source": [
        "dffff=dffff.drop('options',axis=1)"
      ]
    },
    {
      "cell_type": "code",
      "execution_count": null,
      "metadata": {
        "id": "cN6OHzPg7A_p"
      },
      "outputs": [],
      "source": [
        "dffff=dffff.drop('new_price',axis=1)"
      ]
    },
    {
      "cell_type": "code",
      "execution_count": null,
      "metadata": {
        "id": "Cd5XQ_ex7BIk"
      },
      "outputs": [],
      "source": [
        "dffff.to_csv('dffff.csv', index=False)"
      ]
    },
    {
      "cell_type": "code",
      "execution_count": null,
      "metadata": {
        "colab": {
          "base_uri": "https://localhost:8080/",
          "height": 1000
        },
        "id": "fynXaCkI7BMN",
        "outputId": "2460f279-de55-4797-9c2e-fbd8a9f1e9ba"
      },
      "outputs": [
        {
          "output_type": "execute_result",
          "data": {
            "text/plain": [
              "                                     post_id  review_label  reject_reason_id  \\\n",
              "0       cb000599-2ee2-42c1-9f0e-32cfeb940398             1                 0   \n",
              "1       12063741-6634-444b-befa-0be4c95c2b42             0                13   \n",
              "2       81c93119-5c06-412f-80aa-363ddb0ebc33             1                 0   \n",
              "3       b5a5bfa7-03be-408b-b4d9-bca26c0ca59b             1                 0   \n",
              "4       3414e920-dfaf-44a8-9853-0b03d66e9e2a             0                12   \n",
              "...                                      ...           ...               ...   \n",
              "540357  57d8583a-762d-49df-a1ea-fde6ae63e35b             1                 0   \n",
              "540358  7bace186-9fc3-450b-9c23-3a109fa1f455             0               145   \n",
              "540359  d8014824-d3e7-4a0a-9863-df11021f23d4             1                 0   \n",
              "540360  ee2bdfaf-773e-430e-9e04-cc250e7a27c6             1                 0   \n",
              "540361  8b88abae-ad36-4824-b19d-161ffc23ce77             1                 0   \n",
              "\n",
              "        body_status  brand  color  \\\n",
              "0                 1      1      1   \n",
              "1                 1      2      1   \n",
              "2                 1      3      2   \n",
              "3                 0     30      3   \n",
              "4                 2      4      1   \n",
              "...             ...    ...    ...   \n",
              "540357            0     30      3   \n",
              "540358            9      7      1   \n",
              "540359            9     11      8   \n",
              "540360            1      8      1   \n",
              "540361            8     16      1   \n",
              "\n",
              "                                              description  gearbox  \\\n",
              "0                                      بدون رنگ کم کارکرد        1   \n",
              "1       اسفند 95بیمه بدنه کلا تخفیف مانیتور 10 اینج ان...        1   \n",
              "2       بیمه شخص ثالث بیمه بدنه دارای روکش صندلی و کفی...        1   \n",
              "3        نمایندگی رجبی کد ۵٣٠٧٣٢ فروش نقدی   شعبه توحی...        0   \n",
              "4               ماشین صفر برج ۹سال ۹۹ سند رهن ایران خودرو        1   \n",
              "...                                                   ...      ...   \n",
              "540357                          اریزو ٩٩ صفرفول توربوفوری        0   \n",
              "540358  مصرف کننده و خریدار ماشین با مشخصات فوق هستم  ...        1   \n",
              "540359  دور رنگ از جلو ضربه کوچک دارد لاستیک ۷۰درصد تک...        1   \n",
              "540360                          صفر سند آزاد آماده انتقال        0   \n",
              "540361  مگان ٢٠٠٠مدل ۱۳۹۱ اتومات آپشنالفنی و گیربکس به...        0   \n",
              "\n",
              "        selling_type  third_party_insurance_deadline  \\\n",
              "0                  1                               5   \n",
              "1                  1                               1   \n",
              "2                  1                               8   \n",
              "3                  2                               0   \n",
              "4                  1                               7   \n",
              "...              ...                             ...   \n",
              "540357             2                               0   \n",
              "540358             1                               6   \n",
              "540359             1                               5   \n",
              "540360             1                               0   \n",
              "540361             1                              10   \n",
              "\n",
              "                                                    title  year  \\\n",
              "0                             تیبا صندوق‌دار SX، مدل ۱۳۹۷  1397   \n",
              "1                             لیفان X60 دنده‌ای، مدل ۱۳۹۵  1395   \n",
              "2                            پژو 405 SLX بنزینی، مدل ۱۳۹۹  1399   \n",
              "3       دنا DENA معمولی EF7 صفر // مدل 99 خشک آماده تحویل  1399   \n",
              "4                                 پژو 206 SD V8، مدل ۱۳۹۹  1399   \n",
              "...                                                   ...   ...   \n",
              "540357                                       اریزو صفر ٩٩  1398   \n",
              "540358                             پژو پارس سال، مدل ۱۳۹۶  1396   \n",
              "540359                               پراید سفری، مدل ۱۳۸۵  1385   \n",
              "540360                                    پراید۱۵۱ se صفر  1399   \n",
              "540361                   رنو مگان مونتاژ 2000cc، مدل ۱۳۹۱  1391   \n",
              "\n",
              "                                                     text  \n",
              "0          تیبا صندوق‌دار SX، مدل ۱۳۹۷ بدون رنگ کم کارکرد  \n",
              "1       لیفان X60 دنده‌ای، مدل ۱۳۹۵ اسفند 95بیمه بدنه ...  \n",
              "2       پژو 405 SLX بنزینی، مدل ۱۳۹۹ بیمه شخص ثالث بیم...  \n",
              "3       دنا DENA معمولی EF7 صفر // مدل 99 خشک آماده تح...  \n",
              "4       پژو 206 SD V8، مدل ۱۳۹۹ ماشین صفر برج ۹سال ۹۹ ...  \n",
              "...                                                   ...  \n",
              "540357             اریزو صفر ٩٩ اریزو ٩٩ صفرفول توربوفوری  \n",
              "540358  پژو پارس سال، مدل ۱۳۹۶ مصرف کننده و خریدار ماش...  \n",
              "540359  پراید سفری، مدل ۱۳۸۵ دور رنگ از جلو ضربه کوچک ...  \n",
              "540360          پراید۱۵۱ se صفر صفر سند آزاد آماده انتقال  \n",
              "540361  رنو مگان مونتاژ 2000cc، مدل ۱۳۹۱ مگان ٢٠٠٠مدل ...  \n",
              "\n",
              "[540362 rows x 13 columns]"
            ],
            "text/html": [
              "\n",
              "  <div id=\"df-9abca48e-c66b-4b9d-aa88-dcfe16557f35\">\n",
              "    <div class=\"colab-df-container\">\n",
              "      <div>\n",
              "<style scoped>\n",
              "    .dataframe tbody tr th:only-of-type {\n",
              "        vertical-align: middle;\n",
              "    }\n",
              "\n",
              "    .dataframe tbody tr th {\n",
              "        vertical-align: top;\n",
              "    }\n",
              "\n",
              "    .dataframe thead th {\n",
              "        text-align: right;\n",
              "    }\n",
              "</style>\n",
              "<table border=\"1\" class=\"dataframe\">\n",
              "  <thead>\n",
              "    <tr style=\"text-align: right;\">\n",
              "      <th></th>\n",
              "      <th>post_id</th>\n",
              "      <th>review_label</th>\n",
              "      <th>reject_reason_id</th>\n",
              "      <th>body_status</th>\n",
              "      <th>brand</th>\n",
              "      <th>color</th>\n",
              "      <th>description</th>\n",
              "      <th>gearbox</th>\n",
              "      <th>selling_type</th>\n",
              "      <th>third_party_insurance_deadline</th>\n",
              "      <th>title</th>\n",
              "      <th>year</th>\n",
              "      <th>text</th>\n",
              "    </tr>\n",
              "  </thead>\n",
              "  <tbody>\n",
              "    <tr>\n",
              "      <th>0</th>\n",
              "      <td>cb000599-2ee2-42c1-9f0e-32cfeb940398</td>\n",
              "      <td>1</td>\n",
              "      <td>0</td>\n",
              "      <td>1</td>\n",
              "      <td>1</td>\n",
              "      <td>1</td>\n",
              "      <td>بدون رنگ کم کارکرد</td>\n",
              "      <td>1</td>\n",
              "      <td>1</td>\n",
              "      <td>5</td>\n",
              "      <td>تیبا صندوق‌دار SX، مدل ۱۳۹۷</td>\n",
              "      <td>1397</td>\n",
              "      <td>تیبا صندوق‌دار SX، مدل ۱۳۹۷ بدون رنگ کم کارکرد</td>\n",
              "    </tr>\n",
              "    <tr>\n",
              "      <th>1</th>\n",
              "      <td>12063741-6634-444b-befa-0be4c95c2b42</td>\n",
              "      <td>0</td>\n",
              "      <td>13</td>\n",
              "      <td>1</td>\n",
              "      <td>2</td>\n",
              "      <td>1</td>\n",
              "      <td>اسفند 95بیمه بدنه کلا تخفیف مانیتور 10 اینج ان...</td>\n",
              "      <td>1</td>\n",
              "      <td>1</td>\n",
              "      <td>1</td>\n",
              "      <td>لیفان X60 دنده‌ای، مدل ۱۳۹۵</td>\n",
              "      <td>1395</td>\n",
              "      <td>لیفان X60 دنده‌ای، مدل ۱۳۹۵ اسفند 95بیمه بدنه ...</td>\n",
              "    </tr>\n",
              "    <tr>\n",
              "      <th>2</th>\n",
              "      <td>81c93119-5c06-412f-80aa-363ddb0ebc33</td>\n",
              "      <td>1</td>\n",
              "      <td>0</td>\n",
              "      <td>1</td>\n",
              "      <td>3</td>\n",
              "      <td>2</td>\n",
              "      <td>بیمه شخص ثالث بیمه بدنه دارای روکش صندلی و کفی...</td>\n",
              "      <td>1</td>\n",
              "      <td>1</td>\n",
              "      <td>8</td>\n",
              "      <td>پژو 405 SLX بنزینی، مدل ۱۳۹۹</td>\n",
              "      <td>1399</td>\n",
              "      <td>پژو 405 SLX بنزینی، مدل ۱۳۹۹ بیمه شخص ثالث بیم...</td>\n",
              "    </tr>\n",
              "    <tr>\n",
              "      <th>3</th>\n",
              "      <td>b5a5bfa7-03be-408b-b4d9-bca26c0ca59b</td>\n",
              "      <td>1</td>\n",
              "      <td>0</td>\n",
              "      <td>0</td>\n",
              "      <td>30</td>\n",
              "      <td>3</td>\n",
              "      <td>نمایندگی رجبی کد ۵٣٠٧٣٢ فروش نقدی   شعبه توحی...</td>\n",
              "      <td>0</td>\n",
              "      <td>2</td>\n",
              "      <td>0</td>\n",
              "      <td>دنا DENA معمولی EF7 صفر // مدل 99 خشک آماده تحویل</td>\n",
              "      <td>1399</td>\n",
              "      <td>دنا DENA معمولی EF7 صفر // مدل 99 خشک آماده تح...</td>\n",
              "    </tr>\n",
              "    <tr>\n",
              "      <th>4</th>\n",
              "      <td>3414e920-dfaf-44a8-9853-0b03d66e9e2a</td>\n",
              "      <td>0</td>\n",
              "      <td>12</td>\n",
              "      <td>2</td>\n",
              "      <td>4</td>\n",
              "      <td>1</td>\n",
              "      <td>ماشین صفر برج ۹سال ۹۹ سند رهن ایران خودرو</td>\n",
              "      <td>1</td>\n",
              "      <td>1</td>\n",
              "      <td>7</td>\n",
              "      <td>پژو 206 SD V8، مدل ۱۳۹۹</td>\n",
              "      <td>1399</td>\n",
              "      <td>پژو 206 SD V8، مدل ۱۳۹۹ ماشین صفر برج ۹سال ۹۹ ...</td>\n",
              "    </tr>\n",
              "    <tr>\n",
              "      <th>...</th>\n",
              "      <td>...</td>\n",
              "      <td>...</td>\n",
              "      <td>...</td>\n",
              "      <td>...</td>\n",
              "      <td>...</td>\n",
              "      <td>...</td>\n",
              "      <td>...</td>\n",
              "      <td>...</td>\n",
              "      <td>...</td>\n",
              "      <td>...</td>\n",
              "      <td>...</td>\n",
              "      <td>...</td>\n",
              "      <td>...</td>\n",
              "    </tr>\n",
              "    <tr>\n",
              "      <th>540357</th>\n",
              "      <td>57d8583a-762d-49df-a1ea-fde6ae63e35b</td>\n",
              "      <td>1</td>\n",
              "      <td>0</td>\n",
              "      <td>0</td>\n",
              "      <td>30</td>\n",
              "      <td>3</td>\n",
              "      <td>اریزو ٩٩ صفرفول توربوفوری</td>\n",
              "      <td>0</td>\n",
              "      <td>2</td>\n",
              "      <td>0</td>\n",
              "      <td>اریزو صفر ٩٩</td>\n",
              "      <td>1398</td>\n",
              "      <td>اریزو صفر ٩٩ اریزو ٩٩ صفرفول توربوفوری</td>\n",
              "    </tr>\n",
              "    <tr>\n",
              "      <th>540358</th>\n",
              "      <td>7bace186-9fc3-450b-9c23-3a109fa1f455</td>\n",
              "      <td>0</td>\n",
              "      <td>145</td>\n",
              "      <td>9</td>\n",
              "      <td>7</td>\n",
              "      <td>1</td>\n",
              "      <td>مصرف کننده و خریدار ماشین با مشخصات فوق هستم  ...</td>\n",
              "      <td>1</td>\n",
              "      <td>1</td>\n",
              "      <td>6</td>\n",
              "      <td>پژو پارس سال، مدل ۱۳۹۶</td>\n",
              "      <td>1396</td>\n",
              "      <td>پژو پارس سال، مدل ۱۳۹۶ مصرف کننده و خریدار ماش...</td>\n",
              "    </tr>\n",
              "    <tr>\n",
              "      <th>540359</th>\n",
              "      <td>d8014824-d3e7-4a0a-9863-df11021f23d4</td>\n",
              "      <td>1</td>\n",
              "      <td>0</td>\n",
              "      <td>9</td>\n",
              "      <td>11</td>\n",
              "      <td>8</td>\n",
              "      <td>دور رنگ از جلو ضربه کوچک دارد لاستیک ۷۰درصد تک...</td>\n",
              "      <td>1</td>\n",
              "      <td>1</td>\n",
              "      <td>5</td>\n",
              "      <td>پراید سفری، مدل ۱۳۸۵</td>\n",
              "      <td>1385</td>\n",
              "      <td>پراید سفری، مدل ۱۳۸۵ دور رنگ از جلو ضربه کوچک ...</td>\n",
              "    </tr>\n",
              "    <tr>\n",
              "      <th>540360</th>\n",
              "      <td>ee2bdfaf-773e-430e-9e04-cc250e7a27c6</td>\n",
              "      <td>1</td>\n",
              "      <td>0</td>\n",
              "      <td>1</td>\n",
              "      <td>8</td>\n",
              "      <td>1</td>\n",
              "      <td>صفر سند آزاد آماده انتقال</td>\n",
              "      <td>0</td>\n",
              "      <td>1</td>\n",
              "      <td>0</td>\n",
              "      <td>پراید۱۵۱ se صفر</td>\n",
              "      <td>1399</td>\n",
              "      <td>پراید۱۵۱ se صفر صفر سند آزاد آماده انتقال</td>\n",
              "    </tr>\n",
              "    <tr>\n",
              "      <th>540361</th>\n",
              "      <td>8b88abae-ad36-4824-b19d-161ffc23ce77</td>\n",
              "      <td>1</td>\n",
              "      <td>0</td>\n",
              "      <td>8</td>\n",
              "      <td>16</td>\n",
              "      <td>1</td>\n",
              "      <td>مگان ٢٠٠٠مدل ۱۳۹۱ اتومات آپشنالفنی و گیربکس به...</td>\n",
              "      <td>0</td>\n",
              "      <td>1</td>\n",
              "      <td>10</td>\n",
              "      <td>رنو مگان مونتاژ 2000cc، مدل ۱۳۹۱</td>\n",
              "      <td>1391</td>\n",
              "      <td>رنو مگان مونتاژ 2000cc، مدل ۱۳۹۱ مگان ٢٠٠٠مدل ...</td>\n",
              "    </tr>\n",
              "  </tbody>\n",
              "</table>\n",
              "<p>540362 rows × 13 columns</p>\n",
              "</div>\n",
              "      <button class=\"colab-df-convert\" onclick=\"convertToInteractive('df-9abca48e-c66b-4b9d-aa88-dcfe16557f35')\"\n",
              "              title=\"Convert this dataframe to an interactive table.\"\n",
              "              style=\"display:none;\">\n",
              "        \n",
              "  <svg xmlns=\"http://www.w3.org/2000/svg\" height=\"24px\"viewBox=\"0 0 24 24\"\n",
              "       width=\"24px\">\n",
              "    <path d=\"M0 0h24v24H0V0z\" fill=\"none\"/>\n",
              "    <path d=\"M18.56 5.44l.94 2.06.94-2.06 2.06-.94-2.06-.94-.94-2.06-.94 2.06-2.06.94zm-11 1L8.5 8.5l.94-2.06 2.06-.94-2.06-.94L8.5 2.5l-.94 2.06-2.06.94zm10 10l.94 2.06.94-2.06 2.06-.94-2.06-.94-.94-2.06-.94 2.06-2.06.94z\"/><path d=\"M17.41 7.96l-1.37-1.37c-.4-.4-.92-.59-1.43-.59-.52 0-1.04.2-1.43.59L10.3 9.45l-7.72 7.72c-.78.78-.78 2.05 0 2.83L4 21.41c.39.39.9.59 1.41.59.51 0 1.02-.2 1.41-.59l7.78-7.78 2.81-2.81c.8-.78.8-2.07 0-2.86zM5.41 20L4 18.59l7.72-7.72 1.47 1.35L5.41 20z\"/>\n",
              "  </svg>\n",
              "      </button>\n",
              "      \n",
              "  <style>\n",
              "    .colab-df-container {\n",
              "      display:flex;\n",
              "      flex-wrap:wrap;\n",
              "      gap: 12px;\n",
              "    }\n",
              "\n",
              "    .colab-df-convert {\n",
              "      background-color: #E8F0FE;\n",
              "      border: none;\n",
              "      border-radius: 50%;\n",
              "      cursor: pointer;\n",
              "      display: none;\n",
              "      fill: #1967D2;\n",
              "      height: 32px;\n",
              "      padding: 0 0 0 0;\n",
              "      width: 32px;\n",
              "    }\n",
              "\n",
              "    .colab-df-convert:hover {\n",
              "      background-color: #E2EBFA;\n",
              "      box-shadow: 0px 1px 2px rgba(60, 64, 67, 0.3), 0px 1px 3px 1px rgba(60, 64, 67, 0.15);\n",
              "      fill: #174EA6;\n",
              "    }\n",
              "\n",
              "    [theme=dark] .colab-df-convert {\n",
              "      background-color: #3B4455;\n",
              "      fill: #D2E3FC;\n",
              "    }\n",
              "\n",
              "    [theme=dark] .colab-df-convert:hover {\n",
              "      background-color: #434B5C;\n",
              "      box-shadow: 0px 1px 3px 1px rgba(0, 0, 0, 0.15);\n",
              "      filter: drop-shadow(0px 1px 2px rgba(0, 0, 0, 0.3));\n",
              "      fill: #FFFFFF;\n",
              "    }\n",
              "  </style>\n",
              "\n",
              "      <script>\n",
              "        const buttonEl =\n",
              "          document.querySelector('#df-9abca48e-c66b-4b9d-aa88-dcfe16557f35 button.colab-df-convert');\n",
              "        buttonEl.style.display =\n",
              "          google.colab.kernel.accessAllowed ? 'block' : 'none';\n",
              "\n",
              "        async function convertToInteractive(key) {\n",
              "          const element = document.querySelector('#df-9abca48e-c66b-4b9d-aa88-dcfe16557f35');\n",
              "          const dataTable =\n",
              "            await google.colab.kernel.invokeFunction('convertToInteractive',\n",
              "                                                     [key], {});\n",
              "          if (!dataTable) return;\n",
              "\n",
              "          const docLinkHtml = 'Like what you see? Visit the ' +\n",
              "            '<a target=\"_blank\" href=https://colab.research.google.com/notebooks/data_table.ipynb>data table notebook</a>'\n",
              "            + ' to learn more about interactive tables.';\n",
              "          element.innerHTML = '';\n",
              "          dataTable['output_type'] = 'display_data';\n",
              "          await google.colab.output.renderOutput(dataTable, element);\n",
              "          const docLink = document.createElement('div');\n",
              "          docLink.innerHTML = docLinkHtml;\n",
              "          element.appendChild(docLink);\n",
              "        }\n",
              "      </script>\n",
              "    </div>\n",
              "  </div>\n",
              "  "
            ]
          },
          "metadata": {},
          "execution_count": 90
        }
      ],
      "source": [
        "pd.read_csv('dffff.csv')"
      ]
    },
    {
      "cell_type": "code",
      "execution_count": null,
      "metadata": {
        "colab": {
          "base_uri": "https://localhost:8080/"
        },
        "id": "hf2bBEWi7BPf",
        "outputId": "2fa2ce91-8aa8-449a-d3f1-07bbc2ebbcc1"
      },
      "outputs": [
        {
          "output_type": "stream",
          "name": "stdout",
          "text": [
            "Drive already mounted at drive; to attempt to forcibly remount, call drive.mount(\"drive\", force_remount=True).\n"
          ]
        }
      ],
      "source": [
        "from google.colab import drive\n",
        "drive.mount('drive')"
      ]
    },
    {
      "cell_type": "code",
      "execution_count": null,
      "metadata": {
        "id": "S7wY3WVg7qvq"
      },
      "outputs": [],
      "source": [
        "!cp dffff.csv \"drive/My Drive/\""
      ]
    },
    {
      "cell_type": "code",
      "source": [
        "!git init"
      ],
      "metadata": {
        "colab": {
          "base_uri": "https://localhost:8080/"
        },
        "id": "0ToAqEbkmFLw",
        "outputId": "60330c7a-38f7-49c8-f67c-6bb560a22a12"
      },
      "execution_count": null,
      "outputs": [
        {
          "output_type": "stream",
          "name": "stdout",
          "text": [
            "Reinitialized existing Git repository in /content/.git/\n"
          ]
        }
      ]
    },
    {
      "cell_type": "code",
      "source": [
        "!git clone https://github.com/Didehkhani/DivardataNLP.git"
      ],
      "metadata": {
        "colab": {
          "base_uri": "https://localhost:8080/"
        },
        "id": "iyoeaiO2mFca",
        "outputId": "bf22cdc8-4193-466d-f66b-db5a96751e31"
      },
      "execution_count": null,
      "outputs": [
        {
          "output_type": "stream",
          "name": "stdout",
          "text": [
            "Cloning into 'DivardataNLP'...\n",
            "warning: You appear to have cloned an empty repository.\n"
          ]
        }
      ]
    },
    {
      "cell_type": "code",
      "source": [
        "! pwd"
      ],
      "metadata": {
        "colab": {
          "base_uri": "https://localhost:8080/"
        },
        "id": "fWDkFWpxmFgH",
        "outputId": "31742380-1ff1-4681-8013-005e0e597813"
      },
      "execution_count": null,
      "outputs": [
        {
          "output_type": "stream",
          "name": "stdout",
          "text": [
            "/content\n"
          ]
        }
      ]
    },
    {
      "cell_type": "code",
      "source": [
        "%cd DivardataNLP/"
      ],
      "metadata": {
        "colab": {
          "base_uri": "https://localhost:8080/"
        },
        "id": "fi44gBLjmFks",
        "outputId": "58431459-9f20-40ba-b036-ff4b12610026"
      },
      "execution_count": null,
      "outputs": [
        {
          "output_type": "stream",
          "name": "stdout",
          "text": [
            "/content/DivardataNLP\n"
          ]
        }
      ]
    },
    {
      "cell_type": "code",
      "source": [
        "! git remote -v"
      ],
      "metadata": {
        "colab": {
          "base_uri": "https://localhost:8080/"
        },
        "id": "LEHysT63rpXG",
        "outputId": "2f438ef0-0478-4aeb-c002-04fc1889ecf6"
      },
      "execution_count": null,
      "outputs": [
        {
          "output_type": "stream",
          "name": "stdout",
          "text": [
            "origin\thttps://github.com/Didehkhani/DivardataNLP.git (fetch)\n",
            "origin\thttps://github.com/Didehkhani/DivardataNLP.git (push)\n"
          ]
        }
      ]
    },
    {
      "cell_type": "code",
      "source": [
        "! git status"
      ],
      "metadata": {
        "colab": {
          "base_uri": "https://localhost:8080/"
        },
        "id": "W2ATuH-TrzSt",
        "outputId": "d9d197a1-9ec2-4c66-da72-6ca207ebb288"
      },
      "execution_count": null,
      "outputs": [
        {
          "output_type": "stream",
          "name": "stdout",
          "text": [
            "On branch master\n",
            "\n",
            "No commits yet\n",
            "\n",
            "nothing to commit (create/copy files and use \"git add\" to track)\n"
          ]
        }
      ]
    },
    {
      "cell_type": "code",
      "source": [
        "! git add -A"
      ],
      "metadata": {
        "id": "QOWQ_zynsOEt"
      },
      "execution_count": null,
      "outputs": []
    },
    {
      "cell_type": "code",
      "source": [
        "! git status"
      ],
      "metadata": {
        "colab": {
          "base_uri": "https://localhost:8080/"
        },
        "id": "xmfNjhFmsc11",
        "outputId": "4852550c-4720-4279-da7a-4a57c7e70188"
      },
      "execution_count": null,
      "outputs": [
        {
          "output_type": "stream",
          "name": "stdout",
          "text": [
            "On branch master\n",
            "\n",
            "No commits yet\n",
            "\n",
            "nothing to commit (create/copy files and use \"git add\" to track)\n"
          ]
        }
      ]
    },
    {
      "cell_type": "code",
      "source": [
        "%cd /content/drive/MyDrive/Github/"
      ],
      "metadata": {
        "colab": {
          "base_uri": "https://localhost:8080/"
        },
        "id": "oYXAP6tPsf3u",
        "outputId": "3da32826-f261-4e35-e19a-4461207548bb"
      },
      "execution_count": null,
      "outputs": [
        {
          "output_type": "stream",
          "name": "stdout",
          "text": [
            "[Errno 2] No such file or directory: '/content/drive/MyDrive/Github/'\n",
            "/content/DivardataNLP\n"
          ]
        }
      ]
    },
    {
      "cell_type": "code",
      "source": [
        ""
      ],
      "metadata": {
        "id": "uS8aKM3xtcyJ"
      },
      "execution_count": null,
      "outputs": []
    }
  ],
  "metadata": {
    "colab": {
      "collapsed_sections": [],
      "name": "pre1.ipynb",
      "provenance": []
    },
    "kernelspec": {
      "display_name": "Python 3",
      "name": "python3"
    },
    "language_info": {
      "name": "python"
    }
  },
  "nbformat": 4,
  "nbformat_minor": 0
}